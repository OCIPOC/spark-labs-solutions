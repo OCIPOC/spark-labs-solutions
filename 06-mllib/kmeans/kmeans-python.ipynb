{
 "cells": [
  {
   "cell_type": "markdown",
   "metadata": {},
   "source": [
    "# Spark MLLib Example: Clustering\n",
    "\n",
    "Let's look at a clustering example in Spark MLLib.\n",
    "\n",
    "Here, we are going to load the mtcars dataset. This has some stats on different models of cars.  Here, we will load the CSV file as a spark dataframe, and view it.\n",
    "\n",
    "This dataset contains some statistics on 1974 Cars from Motor Trends\n",
    "\n",
    "Here are the columns:\n",
    "* name   - name of the car\n",
    "*  mpg   - Miles/(US) gallon                        \n",
    "*  cyl   - Number of cylinders                      \n",
    "*  disp  - Displacement (cu.in.)                    \n",
    "*  hp    - Gross horsepower                         \n",
    "*  drat  - Rear axle ratio            \n",
    "\n",
    "Are there any natural clusters you can identify from this data?\n",
    "\n",
    "We are going to use **MPG and CYL** attributes to cluster.\n",
    "\n",
    "You can also download and view the raw data in Excel : [cars.csv](/data/cars/mtcars_header.csv)\n",
    "\n",
    "<img src=\"../../assets/images/6.1-cars2.png\" style=\"border: 5px solid grey; max-width:100%;\" />"
   ]
  },
  {
   "cell_type": "code",
   "execution_count": 1,
   "metadata": {},
   "outputs": [
    {
     "name": "stdout",
     "output_type": "stream",
     "text": [
      "Initializing Spark...\n",
      "Spark found in :  /home/ubuntu/apps/spark\n",
      "Spark config:\n",
      "\t spark.app.name=TestApp\n",
      "\tspark.master=local[*]\n",
      "\texecutor.memory=2g\n",
      "\tspark.sql.warehouse.dir=/tmp/tmpyszsvhhy\n",
      "\tsome_property=some_value\n",
      "Spark UI running on port 4041\n"
     ]
    }
   ],
   "source": [
    "# initialize Spark Session\n",
    "import os\n",
    "import sys\n",
    "top_dir = os.path.abspath(os.path.join(os.getcwd(), \"../../\"))\n",
    "if top_dir not in sys.path:\n",
    "    sys.path.append(top_dir)\n",
    "\n",
    "from init_spark import init_spark\n",
    "spark = init_spark()\n",
    "sc = spark.sparkContext"
   ]
  },
  {
   "cell_type": "markdown",
   "metadata": {},
   "source": [
    "## Step 1 : Load Data"
   ]
  },
  {
   "cell_type": "code",
   "execution_count": 2,
   "metadata": {},
   "outputs": [
    {
     "name": "stdout",
     "output_type": "stream",
     "text": [
      "data_location: mtcars_header.csv\n"
     ]
    }
   ],
   "source": [
    "import os\n",
    "import urllib.request\n",
    "\n",
    "data_location = \"../data/cars/mtcars_header.csv\"\n",
    "data_url = 'https://elephantscale-public.s3.amazonaws.com/data/cars/mtcars_header.csv'\n",
    "if not os.path.exists (data_location):\n",
    "    data_location = 'mtcars_header.csv'\n",
    "    if not os.path.exists(data_location):\n",
    "        print(\"Downloading : \", data_url)\n",
    "        urllib.request.urlretrieve(data_url, data_location)\n",
    "print('data_location:', data_location)"
   ]
  },
  {
   "cell_type": "code",
   "execution_count": 3,
   "metadata": {},
   "outputs": [],
   "source": [
    "dataset = spark.read.csv (data_location, header=True, inferSchema=True)"
   ]
  },
  {
   "cell_type": "code",
   "execution_count": 4,
   "metadata": {},
   "outputs": [
    {
     "name": "stdout",
     "output_type": "stream",
     "text": [
      "root\n",
      " |-- model: string (nullable = true)\n",
      " |-- mpg: double (nullable = true)\n",
      " |-- cyl: integer (nullable = true)\n",
      " |-- disp: double (nullable = true)\n",
      " |-- hp: integer (nullable = true)\n",
      " |-- drat: double (nullable = true)\n",
      " |-- wt: double (nullable = true)\n",
      " |-- qsec: double (nullable = true)\n",
      " |-- vs: integer (nullable = true)\n",
      " |-- am: integer (nullable = true)\n",
      " |-- gear: integer (nullable = true)\n",
      " |-- carb: integer (nullable = true)\n",
      "\n"
     ]
    }
   ],
   "source": [
    "## TODO : print schema\n",
    "## Hint : printSchema()\n",
    "dataset.printSchema()"
   ]
  },
  {
   "cell_type": "code",
   "execution_count": 5,
   "metadata": {},
   "outputs": [
    {
     "name": "stdout",
     "output_type": "stream",
     "text": [
      "+-------------------+----+---+-----+---+----+-----+-----+---+---+----+----+\n",
      "|              model| mpg|cyl| disp| hp|drat|   wt| qsec| vs| am|gear|carb|\n",
      "+-------------------+----+---+-----+---+----+-----+-----+---+---+----+----+\n",
      "|          Mazda RX4|21.0|  6|160.0|110| 3.9| 2.62|16.46|  0|  1|   4|   4|\n",
      "|      Mazda RX4 Wag|21.0|  6|160.0|110| 3.9|2.875|17.02|  0|  1|   4|   4|\n",
      "|         Datsun 710|22.8|  4|108.0| 93|3.85| 2.32|18.61|  1|  1|   4|   1|\n",
      "|     Hornet 4 Drive|21.4|  6|258.0|110|3.08|3.215|19.44|  1|  0|   3|   1|\n",
      "|  Hornet Sportabout|18.7|  8|360.0|175|3.15| 3.44|17.02|  0|  0|   3|   2|\n",
      "|            Valiant|18.1|  6|225.0|105|2.76| 3.46|20.22|  1|  0|   3|   1|\n",
      "|         Duster 360|14.3|  8|360.0|245|3.21| 3.57|15.84|  0|  0|   3|   4|\n",
      "|          Merc 240D|24.4|  4|146.7| 62|3.69| 3.19| 20.0|  1|  0|   4|   2|\n",
      "|           Merc 230|22.8|  4|140.8| 95|3.92| 3.15| 22.9|  1|  0|   4|   2|\n",
      "|           Merc 280|19.2|  6|167.6|123|3.92| 3.44| 18.3|  1|  0|   4|   4|\n",
      "|          Merc 280C|17.8|  6|167.6|123|3.92| 3.44| 18.9|  1|  0|   4|   4|\n",
      "|         Merc 450SE|16.4|  8|275.8|180|3.07| 4.07| 17.4|  0|  0|   3|   3|\n",
      "|         Merc 450SL|17.3|  8|275.8|180|3.07| 3.73| 17.6|  0|  0|   3|   3|\n",
      "|        Merc 450SLC|15.2|  8|275.8|180|3.07| 3.78| 18.0|  0|  0|   3|   3|\n",
      "| Cadillac Fleetwood|10.4|  8|472.0|205|2.93| 5.25|17.98|  0|  0|   3|   4|\n",
      "|Lincoln Continental|10.4|  8|460.0|215| 3.0|5.424|17.82|  0|  0|   3|   4|\n",
      "|  Chrysler Imperial|14.7|  8|440.0|230|3.23|5.345|17.42|  0|  0|   3|   4|\n",
      "|           Fiat 128|32.4|  4| 78.7| 66|4.08|  2.2|19.47|  1|  1|   4|   1|\n",
      "|        Honda Civic|30.4|  4| 75.7| 52|4.93|1.615|18.52|  1|  1|   4|   2|\n",
      "|     Toyota Corolla|33.9|  4| 71.1| 65|4.22|1.835| 19.9|  1|  1|   4|   1|\n",
      "+-------------------+----+---+-----+---+----+-----+-----+---+---+----+----+\n",
      "only showing top 20 rows\n",
      "\n"
     ]
    }
   ],
   "source": [
    "## TODO : display the data\n",
    "## Hint : show\n",
    "dataset.show()"
   ]
  },
  {
   "cell_type": "markdown",
   "metadata": {},
   "source": [
    "## Step 2 : Extract data\n",
    "We only care about 'model', 'mpg' and 'cyl' columns"
   ]
  },
  {
   "cell_type": "code",
   "execution_count": 6,
   "metadata": {},
   "outputs": [
    {
     "name": "stdout",
     "output_type": "stream",
     "text": [
      "+-------------------+----+---+\n",
      "|              model| mpg|cyl|\n",
      "+-------------------+----+---+\n",
      "|          Mazda RX4|21.0|  6|\n",
      "|      Mazda RX4 Wag|21.0|  6|\n",
      "|         Datsun 710|22.8|  4|\n",
      "|     Hornet 4 Drive|21.4|  6|\n",
      "|  Hornet Sportabout|18.7|  8|\n",
      "|            Valiant|18.1|  6|\n",
      "|         Duster 360|14.3|  8|\n",
      "|          Merc 240D|24.4|  4|\n",
      "|           Merc 230|22.8|  4|\n",
      "|           Merc 280|19.2|  6|\n",
      "|          Merc 280C|17.8|  6|\n",
      "|         Merc 450SE|16.4|  8|\n",
      "|         Merc 450SL|17.3|  8|\n",
      "|        Merc 450SLC|15.2|  8|\n",
      "| Cadillac Fleetwood|10.4|  8|\n",
      "|Lincoln Continental|10.4|  8|\n",
      "|  Chrysler Imperial|14.7|  8|\n",
      "|           Fiat 128|32.4|  4|\n",
      "|        Honda Civic|30.4|  4|\n",
      "|     Toyota Corolla|33.9|  4|\n",
      "+-------------------+----+---+\n",
      "only showing top 20 rows\n",
      "\n"
     ]
    }
   ],
   "source": [
    "## TODO : extract the columns we need : model, mpg and cyl\n",
    "dataset2 = dataset.select([\"model\", \"mpg\", \"cyl\"])\n",
    "dataset2.show()"
   ]
  },
  {
   "cell_type": "markdown",
   "metadata": {},
   "source": [
    "## Step 3 : Creating Vectors\n",
    "\n",
    "Now that we have ourselves a dataframe, let's work on turning it into vectors.  We're going to vectorize 2 columns:\n",
    "\n",
    "1. MPG\n",
    "2. Number of cylinders.\n",
    "\n",
    "What we'll do, is we'll use the VectorAssembler class to create a new column by the name of features. This will be a Vector."
   ]
  },
  {
   "cell_type": "code",
   "execution_count": 7,
   "metadata": {},
   "outputs": [
    {
     "name": "stdout",
     "output_type": "stream",
     "text": [
      "+-------------------+----+---+----------+\n",
      "|              model| mpg|cyl|  features|\n",
      "+-------------------+----+---+----------+\n",
      "|          Mazda RX4|21.0|  6|[21.0,6.0]|\n",
      "|      Mazda RX4 Wag|21.0|  6|[21.0,6.0]|\n",
      "|         Datsun 710|22.8|  4|[22.8,4.0]|\n",
      "|     Hornet 4 Drive|21.4|  6|[21.4,6.0]|\n",
      "|  Hornet Sportabout|18.7|  8|[18.7,8.0]|\n",
      "|            Valiant|18.1|  6|[18.1,6.0]|\n",
      "|         Duster 360|14.3|  8|[14.3,8.0]|\n",
      "|          Merc 240D|24.4|  4|[24.4,4.0]|\n",
      "|           Merc 230|22.8|  4|[22.8,4.0]|\n",
      "|           Merc 280|19.2|  6|[19.2,6.0]|\n",
      "|          Merc 280C|17.8|  6|[17.8,6.0]|\n",
      "|         Merc 450SE|16.4|  8|[16.4,8.0]|\n",
      "|         Merc 450SL|17.3|  8|[17.3,8.0]|\n",
      "|        Merc 450SLC|15.2|  8|[15.2,8.0]|\n",
      "| Cadillac Fleetwood|10.4|  8|[10.4,8.0]|\n",
      "|Lincoln Continental|10.4|  8|[10.4,8.0]|\n",
      "|  Chrysler Imperial|14.7|  8|[14.7,8.0]|\n",
      "|           Fiat 128|32.4|  4|[32.4,4.0]|\n",
      "|        Honda Civic|30.4|  4|[30.4,4.0]|\n",
      "|     Toyota Corolla|33.9|  4|[33.9,4.0]|\n",
      "+-------------------+----+---+----------+\n",
      "only showing top 20 rows\n",
      "\n"
     ]
    }
   ],
   "source": [
    "from pyspark.ml.feature import VectorAssembler\n",
    "\n",
    "## TODO : create featureVector with 'mpg' and 'cyl'\n",
    "## Hint :  inputCols=['mpg', 'cyl']\n",
    "assembler = VectorAssembler(inputCols=[\"mpg\", \"cyl\"], outputCol=\"features\")\n",
    "featureVector = assembler.transform(dataset2)\n",
    "featureVector.show()"
   ]
  },
  {
   "cell_type": "markdown",
   "metadata": {},
   "source": [
    "### WSSSE calcluations"
   ]
  },
  {
   "cell_type": "code",
   "execution_count": 8,
   "metadata": {},
   "outputs": [],
   "source": [
    "# from : https://spark.apache.org/docs/3.0.0-preview/mllib-clustering.html\n",
    "\n",
    "# # Build the model (cluster the data)\n",
    "# clusters = KMeans.train(parsedData, 2, maxIterations=10, initializationMode=\"random\")\n",
    "\n",
    "# # Evaluate clustering by computing Within Set Sum of Squared Errors\n",
    "# def error(point):\n",
    "#     center = clusters.centers[clusters.predict(point)]\n",
    "#     return sqrt(sum([x**2 for x in (point - center)]))\n",
    "\n",
    "# WSSSE = parsedData.map(lambda point: error(point)).reduce(lambda x, y: x + y)\n",
    "\n",
    "import numpy as np\n",
    "\n",
    "def calculate_wsse (predictions, model):\n",
    "    centers = model.clusterCenters()\n",
    "    \n",
    "    wssse = 0\n",
    "    for i, row in enumerate(predictions.collect()):\n",
    "        feature = row['features']\n",
    "        prediction = row['prediction']\n",
    "        center = centers[prediction]\n",
    "        diff = feature - center\n",
    "        error = np.sqrt(sum([x**2 for x in diff]))\n",
    "        wssse += error\n",
    "        # print ('row={}, feature : {} , prediction : {} , center : {},  diff : {}, error : {},  wssse={}'.\n",
    "        #      format(i, feature, prediction, center, diff, error, wssse))\n",
    "        \n",
    "    return wssse\n"
   ]
  },
  {
   "cell_type": "markdown",
   "metadata": {},
   "source": [
    "## Step 4 : Running Kmeans\n",
    "\n",
    "Now it's time to run kmeans on the resultant dataframe. We don't know what value of k to use, so let's just start with k=2.  This means we will cluster into two groups.\n",
    "\n",
    "We will fit a model to the data, and then train it.\n",
    "\n",
    "### 4.1 - Run KMeans"
   ]
  },
  {
   "cell_type": "code",
   "execution_count": 9,
   "metadata": {},
   "outputs": [
    {
     "name": "stdout",
     "output_type": "stream",
     "text": [
      "CPU times: user 4.6 ms, sys: 3.72 ms, total: 8.33 ms\n",
      "Wall time: 1.38 s\n"
     ]
    }
   ],
   "source": [
    "%%time \n",
    "\n",
    "from pyspark.ml.clustering import KMeans\n",
    "\n",
    "k = 2\n",
    "kmeans = KMeans().setK(k).setMaxIter(10)\n",
    "model = kmeans.fit(featureVector)\n"
   ]
  },
  {
   "cell_type": "markdown",
   "metadata": {},
   "source": [
    "### 4.2 -  Predict\n",
    "\n",
    "Notice what we have here.  We have two clusters. One is smaller, fuel efficient cars like the Fiat and the Corolla (remember, we cluster on two variables only: mpg and cyl).  The other is for basically all other cars.  Probably, we can get better results here with a differnet value of k."
   ]
  },
  {
   "cell_type": "code",
   "execution_count": 10,
   "metadata": {},
   "outputs": [
    {
     "name": "stdout",
     "output_type": "stream",
     "text": [
      "+-------------------+----+---+----------+----------+\n",
      "|              model| mpg|cyl|  features|prediction|\n",
      "+-------------------+----+---+----------+----------+\n",
      "| Cadillac Fleetwood|10.4|  8|[10.4,8.0]|         0|\n",
      "|Lincoln Continental|10.4|  8|[10.4,8.0]|         0|\n",
      "|         Camaro Z28|13.3|  8|[13.3,8.0]|         0|\n",
      "|         Duster 360|14.3|  8|[14.3,8.0]|         0|\n",
      "|  Chrysler Imperial|14.7|  8|[14.7,8.0]|         0|\n",
      "|      Maserati Bora|15.0|  8|[15.0,8.0]|         0|\n",
      "|        AMC Javelin|15.2|  8|[15.2,8.0]|         0|\n",
      "|        Merc 450SLC|15.2|  8|[15.2,8.0]|         0|\n",
      "|   Dodge Challenger|15.5|  8|[15.5,8.0]|         0|\n",
      "|     Ford Pantera L|15.8|  8|[15.8,8.0]|         0|\n",
      "|         Merc 450SE|16.4|  8|[16.4,8.0]|         0|\n",
      "|         Merc 450SL|17.3|  8|[17.3,8.0]|         0|\n",
      "|          Merc 280C|17.8|  6|[17.8,6.0]|         0|\n",
      "|            Valiant|18.1|  6|[18.1,6.0]|         0|\n",
      "|  Hornet Sportabout|18.7|  8|[18.7,8.0]|         0|\n",
      "|           Merc 280|19.2|  6|[19.2,6.0]|         0|\n",
      "|   Pontiac Firebird|19.2|  8|[19.2,8.0]|         0|\n",
      "|       Ferrari Dino|19.7|  6|[19.7,6.0]|         0|\n",
      "|          Mazda RX4|21.0|  6|[21.0,6.0]|         0|\n",
      "|      Mazda RX4 Wag|21.0|  6|[21.0,6.0]|         0|\n",
      "|     Hornet 4 Drive|21.4|  6|[21.4,6.0]|         0|\n",
      "|         Volvo 142E|21.4|  4|[21.4,4.0]|         0|\n",
      "|      Toyota Corona|21.5|  4|[21.5,4.0]|         0|\n",
      "|         Datsun 710|22.8|  4|[22.8,4.0]|         1|\n",
      "|           Merc 230|22.8|  4|[22.8,4.0]|         1|\n",
      "|          Merc 240D|24.4|  4|[24.4,4.0]|         1|\n",
      "|      Porsche 914-2|26.0|  4|[26.0,4.0]|         1|\n",
      "|          Fiat X1-9|27.3|  4|[27.3,4.0]|         1|\n",
      "|        Honda Civic|30.4|  4|[30.4,4.0]|         1|\n",
      "|       Lotus Europa|30.4|  4|[30.4,4.0]|         1|\n",
      "|           Fiat 128|32.4|  4|[32.4,4.0]|         1|\n",
      "|     Toyota Corolla|33.9|  4|[33.9,4.0]|         1|\n",
      "+-------------------+----+---+----------+----------+\n",
      "\n"
     ]
    }
   ],
   "source": [
    "predictions = model.transform(featureVector)\n",
    "predictions.orderBy(['prediction', 'mpg']).show(32)"
   ]
  },
  {
   "cell_type": "markdown",
   "metadata": {},
   "source": [
    "### 4.3 - Calculate the kmeans WSSSE and Silhouette score\n",
    "\n",
    "**WSSSE** is an error metric that calcluates how far away points is from their center.  The less the better.\n",
    "\n",
    "**Silhouette** score is used to evaluate the quality of clusters created using clustering algorithms such as K-Means.  \n",
    "Silhoutte score ranges from -1 to +1.  \n",
    "The silhouette score of 1 means that the clusters are very dense and nicely separated.  \n",
    "The score of 0 means that clusters are overlapping.  \n",
    "The score of less than 0 means that data belonging to clusters may be wrong/incorrect."
   ]
  },
  {
   "cell_type": "code",
   "execution_count": 11,
   "metadata": {},
   "outputs": [
    {
     "name": "stdout",
     "output_type": "stream",
     "text": [
      "k=2, wssse=101.95468425814339,  silhouette_score=0.7395187804814541\n"
     ]
    }
   ],
   "source": [
    "from pyspark.ml.evaluation import ClusteringEvaluator\n",
    "\n",
    "wssse = calculate_wsse(predictions, model)\n",
    "\n",
    "evaluator = ClusteringEvaluator()\n",
    "silhouette = evaluator.evaluate(predictions)\n",
    "print (\"k={}, wssse={},  silhouette_score={}\".format(k, wssse, silhouette))"
   ]
  },
  {
   "cell_type": "markdown",
   "metadata": {},
   "source": [
    "## Step 5 : Adjust K"
   ]
  },
  {
   "cell_type": "code",
   "execution_count": 12,
   "metadata": {},
   "outputs": [],
   "source": [
    "k = 3\n",
    "kmeans = KMeans().setK(k).setMaxIter(10)\n",
    "model = kmeans.fit(featureVector)"
   ]
  },
  {
   "cell_type": "code",
   "execution_count": 13,
   "metadata": {},
   "outputs": [
    {
     "name": "stdout",
     "output_type": "stream",
     "text": [
      "+-------------------+----+---+----------+----------+\n",
      "|              model| mpg|cyl|  features|prediction|\n",
      "+-------------------+----+---+----------+----------+\n",
      "| Cadillac Fleetwood|10.4|  8|[10.4,8.0]|         0|\n",
      "|Lincoln Continental|10.4|  8|[10.4,8.0]|         0|\n",
      "|         Camaro Z28|13.3|  8|[13.3,8.0]|         0|\n",
      "|         Duster 360|14.3|  8|[14.3,8.0]|         0|\n",
      "|  Chrysler Imperial|14.7|  8|[14.7,8.0]|         0|\n",
      "|      Maserati Bora|15.0|  8|[15.0,8.0]|         0|\n",
      "|        AMC Javelin|15.2|  8|[15.2,8.0]|         0|\n",
      "|        Merc 450SLC|15.2|  8|[15.2,8.0]|         0|\n",
      "|   Dodge Challenger|15.5|  8|[15.5,8.0]|         0|\n",
      "|     Ford Pantera L|15.8|  8|[15.8,8.0]|         0|\n",
      "|         Merc 450SE|16.4|  8|[16.4,8.0]|         0|\n",
      "|         Merc 450SL|17.3|  8|[17.3,8.0]|         0|\n",
      "|          Merc 280C|17.8|  6|[17.8,6.0]|         0|\n",
      "|            Valiant|18.1|  6|[18.1,6.0]|         0|\n",
      "|  Hornet Sportabout|18.7|  8|[18.7,8.0]|         0|\n",
      "|   Pontiac Firebird|19.2|  8|[19.2,8.0]|         0|\n",
      "|          Fiat X1-9|27.3|  4|[27.3,4.0]|         1|\n",
      "|       Lotus Europa|30.4|  4|[30.4,4.0]|         1|\n",
      "|        Honda Civic|30.4|  4|[30.4,4.0]|         1|\n",
      "|           Fiat 128|32.4|  4|[32.4,4.0]|         1|\n",
      "|     Toyota Corolla|33.9|  4|[33.9,4.0]|         1|\n",
      "|           Merc 280|19.2|  6|[19.2,6.0]|         2|\n",
      "|       Ferrari Dino|19.7|  6|[19.7,6.0]|         2|\n",
      "|          Mazda RX4|21.0|  6|[21.0,6.0]|         2|\n",
      "|      Mazda RX4 Wag|21.0|  6|[21.0,6.0]|         2|\n",
      "|         Volvo 142E|21.4|  4|[21.4,4.0]|         2|\n",
      "|     Hornet 4 Drive|21.4|  6|[21.4,6.0]|         2|\n",
      "|      Toyota Corona|21.5|  4|[21.5,4.0]|         2|\n",
      "|         Datsun 710|22.8|  4|[22.8,4.0]|         2|\n",
      "|           Merc 230|22.8|  4|[22.8,4.0]|         2|\n",
      "|          Merc 240D|24.4|  4|[24.4,4.0]|         2|\n",
      "|      Porsche 914-2|26.0|  4|[26.0,4.0]|         2|\n",
      "+-------------------+----+---+----------+----------+\n",
      "\n"
     ]
    }
   ],
   "source": [
    "predictions = model.transform(featureVector)\n",
    "predictions.orderBy(['prediction', 'mpg']).show(32)"
   ]
  },
  {
   "cell_type": "code",
   "execution_count": 14,
   "metadata": {},
   "outputs": [
    {
     "name": "stdout",
     "output_type": "stream",
     "text": [
      "k=3, wssse=62.08391008719308,  silhouette_score=0.7063900822737126\n"
     ]
    }
   ],
   "source": [
    "from pyspark.ml.evaluation import ClusteringEvaluator\n",
    "\n",
    "\n",
    "wssse = calculate_wsse(predictions, model)\n",
    "\n",
    "evaluator = ClusteringEvaluator()\n",
    "silhouette = evaluator.evaluate(predictions)\n",
    "print (\"k={}, wssse={},  silhouette_score={}\".format(k, wssse, silhouette))"
   ]
  },
  {
   "cell_type": "markdown",
   "metadata": {},
   "source": [
    "## Step 6 : Iterate over K\n",
    "We are going to calculate WSSSE for various values of K:"
   ]
  },
  {
   "cell_type": "code",
   "execution_count": 15,
   "metadata": {},
   "outputs": [
    {
     "name": "stdout",
     "output_type": "stream",
     "text": [
      "k=2, wssse=101.95468425814339,  silhouette_score=0.7395187804814541\n",
      "k=3, wssse=62.08391008719308,  silhouette_score=0.7063900822737126\n",
      "k=4, wssse=50.88530998793395,  silhouette_score=0.6800544281104428\n",
      "k=5, wssse=38.857153330862346,  silhouette_score=0.700541935595536\n",
      "k=6, wssse=31.470301827213675,  silhouette_score=0.744922407376524\n",
      "k=7, wssse=30.84200581957191,  silhouette_score=0.6011614441690245\n",
      "k=8, wssse=22.972222222222225,  silhouette_score=0.7476517861534365\n",
      "k=9, wssse=23.84022298081879,  silhouette_score=0.6340771770699972\n",
      "k=10, wssse=21.131155245096487,  silhouette_score=0.606981912933389\n",
      "k=11, wssse=19.20597194461204,  silhouette_score=0.5514314084624744\n",
      "k=12, wssse=13.799999999999992,  silhouette_score=0.5926009741515106\n",
      "k=13, wssse=11.19999999999999,  silhouette_score=0.6398369288659034\n",
      "k=14, wssse=9.466666666666658,  silhouette_score=0.6724849195328356\n",
      "k=15, wssse=7.266666666666662,  silhouette_score=0.724390916576235\n",
      "k=16, wssse=6.333333333333336,  silhouette_score=0.7074069869500861\n",
      "k=17, wssse=4.833333333333336,  silhouette_score=0.6682249078684428\n",
      "k=18, wssse=4.533333333333335,  silhouette_score=0.6066992351472825\n",
      "k=19, wssse=2.9333333333333336,  silhouette_score=0.6115304749379671\n",
      "k=20, wssse=2.400000000000002,  silhouette_score=0.5827177907771215\n",
      "k=21, wssse=2.2666666666666657,  silhouette_score=0.5682129563149216\n",
      "k=22, wssse=1.966666666666665,  silhouette_score=0.5241245608324724\n",
      "k=23, wssse=1.6666666666666643,  silhouette_score=0.4625988881113121\n",
      "k=24, wssse=1.2666666666666657,  silhouette_score=0.423742732775294\n",
      "k=25, wssse=1.0,  silhouette_score=0.42027051055307185\n",
      "k=26, wssse=0.5,  silhouette_score=0.3639206073646517\n",
      "k=27, wssse=0.5,  silhouette_score=0.3639206073646517\n",
      "k=28, wssse=0.5,  silhouette_score=0.3639206073646517\n",
      "k=29, wssse=0.5,  silhouette_score=0.3639206073646517\n",
      "k=30, wssse=0.0,  silhouette_score=0.3124999999999929\n",
      "k=31, wssse=0.0,  silhouette_score=0.3124999999999929\n",
      "k=32, wssse=0.10000000000000142,  silhouette_score=0.3746556499818795\n",
      "CPU times: user 371 ms, sys: 69.7 ms, total: 441 ms\n",
      "Wall time: 11.3 s\n"
     ]
    }
   ],
   "source": [
    "%%time \n",
    "\n",
    "from pyspark.ml.clustering import KMeans\n",
    "from pyspark.ml.evaluation import ClusteringEvaluator\n",
    "\n",
    "kvals = []\n",
    "silhouettes = []\n",
    "wssses = []\n",
    "\n",
    "evaluator = ClusteringEvaluator()\n",
    "\n",
    "for k in range(2,33):\n",
    "    kmeans = KMeans().setK(k).setMaxIter(10)\n",
    "    model = kmeans.fit(featureVector)\n",
    "    predictions = model.transform(featureVector)\n",
    "    wssse = calculate_wsse (predictions, model)\n",
    "    silhouette = evaluator.evaluate(predictions)\n",
    "    print (\"k={}, wssse={},  silhouette_score={}\".format(k, wssse, silhouette))\n",
    "    \n",
    "    kvals.append(k)\n",
    "    wssses.append(wssse)\n",
    "    silhouettes.append(silhouette)"
   ]
  },
  {
   "cell_type": "markdown",
   "metadata": {},
   "source": [
    "## Step 7 - Plot Silhouette / WSSSE graph"
   ]
  },
  {
   "cell_type": "code",
   "execution_count": 16,
   "metadata": {},
   "outputs": [
    {
     "data": {
      "image/png": "[encoded data removed]",
      "text/plain": [
       "<Figure size 432x288 with 1 Axes>"
      ]
     },
     "metadata": {
      "needs_background": "light"
     },
     "output_type": "display_data"
    }
   ],
   "source": [
    "%matplotlib inline\n",
    "from matplotlib import pyplot\n",
    "\n",
    "pyplot.plot(kvals, silhouettes)\n",
    "pyplot.xlabel('k')\n",
    "pyplot.ylabel('silhouette score')\n",
    "pyplot.show()"
   ]
  },
  {
   "cell_type": "code",
   "execution_count": 17,
   "metadata": {},
   "outputs": [
    {
     "data": {
      "image/png": "[encoded data removed]",
      "text/plain": [
       "<Figure size 432x288 with 1 Axes>"
      ]
     },
     "metadata": {
      "needs_background": "light"
     },
     "output_type": "display_data"
    }
   ],
   "source": [
    "pyplot.plot(kvals, wssses)\n",
    "pyplot.xlabel('k')\n",
    "pyplot.ylabel('wssse')\n",
    "pyplot.show()"
   ]
  },
  {
   "cell_type": "code",
   "execution_count": null,
   "metadata": {},
   "outputs": [],
   "source": []
  }
 ],
 "metadata": {
  "anaconda-cloud": {},
  "kernelspec": {
   "display_name": "Python 3",
   "language": "python",
   "name": "python3"
  },
  "language_info": {
   "codemirror_mode": {
    "name": "ipython",
    "version": 3
   },
   "file_extension": ".py",
   "mimetype": "text/x-python",
   "name": "python",
   "nbconvert_exporter": "python",
   "pygments_lexer": "ipython3",
   "version": "3.8.2"
  }
 },
 "nbformat": 4,
 "nbformat_minor": 4
}
