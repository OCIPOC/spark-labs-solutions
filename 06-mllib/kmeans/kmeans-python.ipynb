{
 "cells": [
  {
   "cell_type": "markdown",
   "metadata": {},
   "source": [
    "# Spark MLLib Example: Clustering\n",
    "\n",
    "Let's look at a clustering example in Spark MLLib.\n",
    "\n",
    "Here, we are going to load the mtcars dataset. This has some stats on different models of cars.  Here, we will load the CSV file as a spark dataframe, and view it.\n",
    "\n",
    "This dataset contains some statistics on 1974 Cars from Motor Trends\n",
    "\n",
    "Here are the columns:\n",
    "* name   - name of the car\n",
    "*  mpg   - Miles/(US) gallon                        \n",
    "*  cyl   - Number of cylinders                      \n",
    "*  disp  - Displacement (cu.in.)                    \n",
    "*  hp    - Gross horsepower                         \n",
    "*  drat  - Rear axle ratio            \n",
    "\n",
    "Are there any natural clusters you can identify from this data?\n",
    "\n",
    "We are going to use **MPG and CYL** attributes to cluster.\n",
    "\n",
    "You can also download and view the raw data in Excel : [cars.csv](/data/cars/mtcars_header.csv)\n",
    "\n",
    "<img src=\"../../assets/images/6.1-cars2.png\" style=\"border: 5px solid grey; max-width:100%;\" />"
   ]
  },
  {
   "cell_type": "code",
   "execution_count": 1,
   "metadata": {},
   "outputs": [
    {
     "name": "stdout",
     "output_type": "stream",
     "text": [
      "Initializing Spark...\n",
      "Spark found in :  /home/sujee/apps/spark\n",
      "Spark config:\n",
      "\t spark.app.name=TestApp\n",
      "\tspark.master=local[*]\n",
      "\texecutor.memory=2g\n",
      "\tspark.sql.warehouse.dir=/tmp/tmpkv7bg1fg\n",
      "\tsome_property=some_value\n",
      "Spark UI running on port 4051\n"
     ]
    }
   ],
   "source": [
    "# initialize Spark Session\n",
    "import os\n",
    "import sys\n",
    "top_dir = os.path.abspath(os.path.join(os.getcwd(), \"../../\"))\n",
    "if top_dir not in sys.path:\n",
    "    sys.path.append(top_dir)\n",
    "\n",
    "from init_spark import init_spark\n",
    "spark = init_spark()\n",
    "sc = spark.sparkContext"
   ]
  },
  {
   "cell_type": "markdown",
   "metadata": {},
   "source": [
    "## Step 1 : Load Data"
   ]
  },
  {
   "cell_type": "code",
   "execution_count": 2,
   "metadata": {},
   "outputs": [],
   "source": [
    "dataset = spark.read.csv(\"/data/cars/mtcars_header.csv\", header=True, inferSchema=True)"
   ]
  },
  {
   "cell_type": "code",
   "execution_count": 3,
   "metadata": {},
   "outputs": [
    {
     "name": "stdout",
     "output_type": "stream",
     "text": [
      "root\n",
      " |-- model: string (nullable = true)\n",
      " |-- mpg: double (nullable = true)\n",
      " |-- cyl: integer (nullable = true)\n",
      " |-- disp: double (nullable = true)\n",
      " |-- hp: integer (nullable = true)\n",
      " |-- drat: double (nullable = true)\n",
      " |-- wt: double (nullable = true)\n",
      " |-- qsec: double (nullable = true)\n",
      " |-- vs: integer (nullable = true)\n",
      " |-- am: integer (nullable = true)\n",
      " |-- gear: integer (nullable = true)\n",
      " |-- carb: integer (nullable = true)\n",
      "\n"
     ]
    }
   ],
   "source": [
    "## TODO : print schema\n",
    "## Hint : printSchema()\n",
    "dataset.printSchema()"
   ]
  },
  {
   "cell_type": "code",
   "execution_count": 4,
   "metadata": {},
   "outputs": [
    {
     "name": "stdout",
     "output_type": "stream",
     "text": [
      "+-------------------+----+---+-----+---+----+-----+-----+---+---+----+----+\n",
      "|              model| mpg|cyl| disp| hp|drat|   wt| qsec| vs| am|gear|carb|\n",
      "+-------------------+----+---+-----+---+----+-----+-----+---+---+----+----+\n",
      "|          Mazda RX4|21.0|  6|160.0|110| 3.9| 2.62|16.46|  0|  1|   4|   4|\n",
      "|      Mazda RX4 Wag|21.0|  6|160.0|110| 3.9|2.875|17.02|  0|  1|   4|   4|\n",
      "|         Datsun 710|22.8|  4|108.0| 93|3.85| 2.32|18.61|  1|  1|   4|   1|\n",
      "|     Hornet 4 Drive|21.4|  6|258.0|110|3.08|3.215|19.44|  1|  0|   3|   1|\n",
      "|  Hornet Sportabout|18.7|  8|360.0|175|3.15| 3.44|17.02|  0|  0|   3|   2|\n",
      "|            Valiant|18.1|  6|225.0|105|2.76| 3.46|20.22|  1|  0|   3|   1|\n",
      "|         Duster 360|14.3|  8|360.0|245|3.21| 3.57|15.84|  0|  0|   3|   4|\n",
      "|          Merc 240D|24.4|  4|146.7| 62|3.69| 3.19| 20.0|  1|  0|   4|   2|\n",
      "|           Merc 230|22.8|  4|140.8| 95|3.92| 3.15| 22.9|  1|  0|   4|   2|\n",
      "|           Merc 280|19.2|  6|167.6|123|3.92| 3.44| 18.3|  1|  0|   4|   4|\n",
      "|          Merc 280C|17.8|  6|167.6|123|3.92| 3.44| 18.9|  1|  0|   4|   4|\n",
      "|         Merc 450SE|16.4|  8|275.8|180|3.07| 4.07| 17.4|  0|  0|   3|   3|\n",
      "|         Merc 450SL|17.3|  8|275.8|180|3.07| 3.73| 17.6|  0|  0|   3|   3|\n",
      "|        Merc 450SLC|15.2|  8|275.8|180|3.07| 3.78| 18.0|  0|  0|   3|   3|\n",
      "| Cadillac Fleetwood|10.4|  8|472.0|205|2.93| 5.25|17.98|  0|  0|   3|   4|\n",
      "|Lincoln Continental|10.4|  8|460.0|215| 3.0|5.424|17.82|  0|  0|   3|   4|\n",
      "|  Chrysler Imperial|14.7|  8|440.0|230|3.23|5.345|17.42|  0|  0|   3|   4|\n",
      "|           Fiat 128|32.4|  4| 78.7| 66|4.08|  2.2|19.47|  1|  1|   4|   1|\n",
      "|        Honda Civic|30.4|  4| 75.7| 52|4.93|1.615|18.52|  1|  1|   4|   2|\n",
      "|     Toyota Corolla|33.9|  4| 71.1| 65|4.22|1.835| 19.9|  1|  1|   4|   1|\n",
      "+-------------------+----+---+-----+---+----+-----+-----+---+---+----+----+\n",
      "only showing top 20 rows\n",
      "\n"
     ]
    }
   ],
   "source": [
    "## TODO : display the data\n",
    "## Hint : show\n",
    "dataset.show()"
   ]
  },
  {
   "cell_type": "markdown",
   "metadata": {},
   "source": [
    "## Step 2 : Extract data\n",
    "We only care about 'model', 'mpg' and 'cyl' columns"
   ]
  },
  {
   "cell_type": "code",
   "execution_count": 5,
   "metadata": {},
   "outputs": [
    {
     "name": "stdout",
     "output_type": "stream",
     "text": [
      "+-------------------+----+---+\n",
      "|              model| mpg|cyl|\n",
      "+-------------------+----+---+\n",
      "|          Mazda RX4|21.0|  6|\n",
      "|      Mazda RX4 Wag|21.0|  6|\n",
      "|         Datsun 710|22.8|  4|\n",
      "|     Hornet 4 Drive|21.4|  6|\n",
      "|  Hornet Sportabout|18.7|  8|\n",
      "|            Valiant|18.1|  6|\n",
      "|         Duster 360|14.3|  8|\n",
      "|          Merc 240D|24.4|  4|\n",
      "|           Merc 230|22.8|  4|\n",
      "|           Merc 280|19.2|  6|\n",
      "|          Merc 280C|17.8|  6|\n",
      "|         Merc 450SE|16.4|  8|\n",
      "|         Merc 450SL|17.3|  8|\n",
      "|        Merc 450SLC|15.2|  8|\n",
      "| Cadillac Fleetwood|10.4|  8|\n",
      "|Lincoln Continental|10.4|  8|\n",
      "|  Chrysler Imperial|14.7|  8|\n",
      "|           Fiat 128|32.4|  4|\n",
      "|        Honda Civic|30.4|  4|\n",
      "|     Toyota Corolla|33.9|  4|\n",
      "+-------------------+----+---+\n",
      "only showing top 20 rows\n",
      "\n"
     ]
    }
   ],
   "source": [
    "## TODO : extract the columns we need : model, mpg and cyl\n",
    "dataset2 = dataset.select([\"model\", \"mpg\", \"cyl\"])\n",
    "dataset2.show()"
   ]
  },
  {
   "cell_type": "markdown",
   "metadata": {},
   "source": [
    "## Step 3 : Creating Vectors\n",
    "\n",
    "Now that we have ourselves a dataframe, let's work on turning it into vectors.  We're going to vectorize 2 columns:\n",
    "\n",
    "1. MPG\n",
    "2. Number of cylinders.\n",
    "\n",
    "What we'll do, is we'll use the VectorAssembler class to create a new column by the name of features. This will be a Vector."
   ]
  },
  {
   "cell_type": "code",
   "execution_count": 6,
   "metadata": {},
   "outputs": [
    {
     "name": "stdout",
     "output_type": "stream",
     "text": [
      "+-------------------+----+---+----------+\n",
      "|              model| mpg|cyl|  features|\n",
      "+-------------------+----+---+----------+\n",
      "|          Mazda RX4|21.0|  6|[21.0,6.0]|\n",
      "|      Mazda RX4 Wag|21.0|  6|[21.0,6.0]|\n",
      "|         Datsun 710|22.8|  4|[22.8,4.0]|\n",
      "|     Hornet 4 Drive|21.4|  6|[21.4,6.0]|\n",
      "|  Hornet Sportabout|18.7|  8|[18.7,8.0]|\n",
      "|            Valiant|18.1|  6|[18.1,6.0]|\n",
      "|         Duster 360|14.3|  8|[14.3,8.0]|\n",
      "|          Merc 240D|24.4|  4|[24.4,4.0]|\n",
      "|           Merc 230|22.8|  4|[22.8,4.0]|\n",
      "|           Merc 280|19.2|  6|[19.2,6.0]|\n",
      "|          Merc 280C|17.8|  6|[17.8,6.0]|\n",
      "|         Merc 450SE|16.4|  8|[16.4,8.0]|\n",
      "|         Merc 450SL|17.3|  8|[17.3,8.0]|\n",
      "|        Merc 450SLC|15.2|  8|[15.2,8.0]|\n",
      "| Cadillac Fleetwood|10.4|  8|[10.4,8.0]|\n",
      "|Lincoln Continental|10.4|  8|[10.4,8.0]|\n",
      "|  Chrysler Imperial|14.7|  8|[14.7,8.0]|\n",
      "|           Fiat 128|32.4|  4|[32.4,4.0]|\n",
      "|        Honda Civic|30.4|  4|[30.4,4.0]|\n",
      "|     Toyota Corolla|33.9|  4|[33.9,4.0]|\n",
      "+-------------------+----+---+----------+\n",
      "only showing top 20 rows\n",
      "\n"
     ]
    }
   ],
   "source": [
    "from pyspark.ml.feature import VectorAssembler\n",
    "\n",
    "## TODO : create featureVector with 'mpg' and 'cyl'\n",
    "## Hint :  inputCols=['mpg', 'cyl']\n",
    "assembler = VectorAssembler(inputCols=[\"mpg\", \"cyl\"], outputCol=\"features\")\n",
    "featureVector = assembler.transform(dataset2)\n",
    "featureVector.show()"
   ]
  },
  {
   "cell_type": "markdown",
   "metadata": {},
   "source": [
    "## Step 4 : Running Kmeans\n",
    "\n",
    "Now it's time to run kmeans on the resultant dataframe. We don't know what value of k to use, so let's just start with k=2.  This means we will cluster into two groups.\n",
    "\n",
    "We will fit a model to the data, and then train it.\n",
    "\n",
    "### 4.1 - Run KMeans"
   ]
  },
  {
   "cell_type": "code",
   "execution_count": 7,
   "metadata": {},
   "outputs": [
    {
     "name": "stdout",
     "output_type": "stream",
     "text": [
      "CPU times: user 6.07 ms, sys: 356 µs, total: 6.43 ms\n",
      "Wall time: 1.52 s\n"
     ]
    }
   ],
   "source": [
    "%%time \n",
    "\n",
    "from pyspark.ml.clustering import KMeans\n",
    "\n",
    "k = 2\n",
    "kmeans = KMeans().setK(k).setMaxIter(10)\n",
    "model = kmeans.fit(featureVector)\n"
   ]
  },
  {
   "cell_type": "markdown",
   "metadata": {},
   "source": [
    "### 4.2 -  Predict\n",
    "\n",
    "Notice what we have here.  We have two clusters. One is smaller, fuel efficient cars like the Fiat and the Corolla (remember, we cluster on two variables only: mpg and cyl).  The other is for basically all other cars.  Probably, we can get better results here with a differnet value of k."
   ]
  },
  {
   "cell_type": "code",
   "execution_count": 8,
   "metadata": {},
   "outputs": [
    {
     "name": "stdout",
     "output_type": "stream",
     "text": [
      "+-------------------+----+---+----------+----------+\n",
      "|              model| mpg|cyl|  features|prediction|\n",
      "+-------------------+----+---+----------+----------+\n",
      "| Cadillac Fleetwood|10.4|  8|[10.4,8.0]|         0|\n",
      "|Lincoln Continental|10.4|  8|[10.4,8.0]|         0|\n",
      "|         Camaro Z28|13.3|  8|[13.3,8.0]|         0|\n",
      "|         Duster 360|14.3|  8|[14.3,8.0]|         0|\n",
      "|  Chrysler Imperial|14.7|  8|[14.7,8.0]|         0|\n",
      "|      Maserati Bora|15.0|  8|[15.0,8.0]|         0|\n",
      "|        AMC Javelin|15.2|  8|[15.2,8.0]|         0|\n",
      "|        Merc 450SLC|15.2|  8|[15.2,8.0]|         0|\n",
      "|   Dodge Challenger|15.5|  8|[15.5,8.0]|         0|\n",
      "|     Ford Pantera L|15.8|  8|[15.8,8.0]|         0|\n",
      "|         Merc 450SE|16.4|  8|[16.4,8.0]|         0|\n",
      "|         Merc 450SL|17.3|  8|[17.3,8.0]|         0|\n",
      "|          Merc 280C|17.8|  6|[17.8,6.0]|         0|\n",
      "|            Valiant|18.1|  6|[18.1,6.0]|         0|\n",
      "|  Hornet Sportabout|18.7|  8|[18.7,8.0]|         0|\n",
      "|           Merc 280|19.2|  6|[19.2,6.0]|         0|\n",
      "|   Pontiac Firebird|19.2|  8|[19.2,8.0]|         0|\n",
      "|       Ferrari Dino|19.7|  6|[19.7,6.0]|         0|\n",
      "|          Mazda RX4|21.0|  6|[21.0,6.0]|         0|\n",
      "|      Mazda RX4 Wag|21.0|  6|[21.0,6.0]|         0|\n",
      "|     Hornet 4 Drive|21.4|  6|[21.4,6.0]|         0|\n",
      "|         Volvo 142E|21.4|  4|[21.4,4.0]|         0|\n",
      "|      Toyota Corona|21.5|  4|[21.5,4.0]|         0|\n",
      "|         Datsun 710|22.8|  4|[22.8,4.0]|         0|\n",
      "|           Merc 230|22.8|  4|[22.8,4.0]|         0|\n",
      "|          Merc 240D|24.4|  4|[24.4,4.0]|         1|\n",
      "|      Porsche 914-2|26.0|  4|[26.0,4.0]|         1|\n",
      "|          Fiat X1-9|27.3|  4|[27.3,4.0]|         1|\n",
      "|        Honda Civic|30.4|  4|[30.4,4.0]|         1|\n",
      "|       Lotus Europa|30.4|  4|[30.4,4.0]|         1|\n",
      "|           Fiat 128|32.4|  4|[32.4,4.0]|         1|\n",
      "|     Toyota Corolla|33.9|  4|[33.9,4.0]|         1|\n",
      "+-------------------+----+---+----------+----------+\n",
      "\n"
     ]
    }
   ],
   "source": [
    "predictions = model.transform(featureVector)\n",
    "predictions.orderBy(['prediction', 'mpg']).show(32)"
   ]
  },
  {
   "cell_type": "markdown",
   "metadata": {},
   "source": [
    "### 4.3 - Calculate the kmeans Silhouette score\n",
    "\n",
    "Silhouette score is used to evaluate the quality of clusters created using clustering algorithms such as K-Means.\n",
    "\n",
    "Silhoutte score ranges from -1 to +1.\n",
    "\n",
    "The silhouette score of 1 means that the clusters are very dense and nicely separated.\n",
    "\n",
    "The score of 0 means that clusters are overlapping\n",
    "\n",
    "The score of less than 0 means that data belonging to clusters may be wrong/incorrect."
   ]
  },
  {
   "cell_type": "code",
   "execution_count": 9,
   "metadata": {},
   "outputs": [
    {
     "name": "stdout",
     "output_type": "stream",
     "text": [
      "k=2, silhouette_score=0.7574234095548431\n"
     ]
    }
   ],
   "source": [
    "from pyspark.ml.evaluation import ClusteringEvaluator\n",
    "\n",
    "evaluator = ClusteringEvaluator()\n",
    "silhouette = evaluator.evaluate(predictions)\n",
    "print (\"k={}, silhouette_score={}\".format(k, silhouette))"
   ]
  },
  {
   "cell_type": "markdown",
   "metadata": {},
   "source": [
    "## Step 5 : Adjust K"
   ]
  },
  {
   "cell_type": "code",
   "execution_count": 10,
   "metadata": {},
   "outputs": [],
   "source": [
    "k = 3\n",
    "kmeans = KMeans().setK(k).setMaxIter(10)\n",
    "model = kmeans.fit(featureVector)"
   ]
  },
  {
   "cell_type": "code",
   "execution_count": 11,
   "metadata": {},
   "outputs": [
    {
     "name": "stdout",
     "output_type": "stream",
     "text": [
      "+-------------------+----+---+----------+----------+\n",
      "|              model| mpg|cyl|  features|prediction|\n",
      "+-------------------+----+---+----------+----------+\n",
      "|          Merc 280C|17.8|  6|[17.8,6.0]|         0|\n",
      "|            Valiant|18.1|  6|[18.1,6.0]|         0|\n",
      "|  Hornet Sportabout|18.7|  8|[18.7,8.0]|         0|\n",
      "|   Pontiac Firebird|19.2|  8|[19.2,8.0]|         0|\n",
      "|           Merc 280|19.2|  6|[19.2,6.0]|         0|\n",
      "|       Ferrari Dino|19.7|  6|[19.7,6.0]|         0|\n",
      "|      Mazda RX4 Wag|21.0|  6|[21.0,6.0]|         0|\n",
      "|          Mazda RX4|21.0|  6|[21.0,6.0]|         0|\n",
      "|     Hornet 4 Drive|21.4|  6|[21.4,6.0]|         0|\n",
      "|         Volvo 142E|21.4|  4|[21.4,4.0]|         0|\n",
      "|      Toyota Corona|21.5|  4|[21.5,4.0]|         0|\n",
      "|         Datsun 710|22.8|  4|[22.8,4.0]|         0|\n",
      "|           Merc 230|22.8|  4|[22.8,4.0]|         0|\n",
      "|          Merc 240D|24.4|  4|[24.4,4.0]|         0|\n",
      "|      Porsche 914-2|26.0|  4|[26.0,4.0]|         1|\n",
      "|          Fiat X1-9|27.3|  4|[27.3,4.0]|         1|\n",
      "|       Lotus Europa|30.4|  4|[30.4,4.0]|         1|\n",
      "|        Honda Civic|30.4|  4|[30.4,4.0]|         1|\n",
      "|           Fiat 128|32.4|  4|[32.4,4.0]|         1|\n",
      "|     Toyota Corolla|33.9|  4|[33.9,4.0]|         1|\n",
      "| Cadillac Fleetwood|10.4|  8|[10.4,8.0]|         2|\n",
      "|Lincoln Continental|10.4|  8|[10.4,8.0]|         2|\n",
      "|         Camaro Z28|13.3|  8|[13.3,8.0]|         2|\n",
      "|         Duster 360|14.3|  8|[14.3,8.0]|         2|\n",
      "|  Chrysler Imperial|14.7|  8|[14.7,8.0]|         2|\n",
      "|      Maserati Bora|15.0|  8|[15.0,8.0]|         2|\n",
      "|        Merc 450SLC|15.2|  8|[15.2,8.0]|         2|\n",
      "|        AMC Javelin|15.2|  8|[15.2,8.0]|         2|\n",
      "|   Dodge Challenger|15.5|  8|[15.5,8.0]|         2|\n",
      "|     Ford Pantera L|15.8|  8|[15.8,8.0]|         2|\n",
      "|         Merc 450SE|16.4|  8|[16.4,8.0]|         2|\n",
      "|         Merc 450SL|17.3|  8|[17.3,8.0]|         2|\n",
      "+-------------------+----+---+----------+----------+\n",
      "\n"
     ]
    }
   ],
   "source": [
    "predictions = model.transform(featureVector)\n",
    "predictions.orderBy(['prediction', 'mpg']).show(32)"
   ]
  },
  {
   "cell_type": "code",
   "execution_count": 12,
   "metadata": {},
   "outputs": [
    {
     "name": "stdout",
     "output_type": "stream",
     "text": [
      "k=3, silhouette_score=0.7320664467622322\n"
     ]
    }
   ],
   "source": [
    "from pyspark.ml.evaluation import ClusteringEvaluator\n",
    "\n",
    "\n",
    "silhouette = evaluator.evaluate(predictions)\n",
    "print (\"k={}, silhouette_score={}\".format(k, silhouette))"
   ]
  },
  {
   "cell_type": "markdown",
   "metadata": {},
   "source": [
    "## Step 6 : Iterate over K\n",
    "We are going to calculate WSSSE for various values of K:"
   ]
  },
  {
   "cell_type": "code",
   "execution_count": 13,
   "metadata": {},
   "outputs": [
    {
     "name": "stdout",
     "output_type": "stream",
     "text": [
      "k=2, silhouette_score=0.7574234095548431\n",
      "k=3, silhouette_score=0.7320664467622322\n",
      "k=4, silhouette_score=0.6664447976100981\n",
      "k=5, silhouette_score=0.6293095875133549\n",
      "k=6, silhouette_score=0.744922407376524\n",
      "k=7, silhouette_score=0.7344050150111696\n",
      "k=8, silhouette_score=0.5574541813247113\n",
      "k=9, silhouette_score=0.6626467047513199\n",
      "k=10, silhouette_score=0.6968595095761132\n",
      "k=11, silhouette_score=0.7210983243899824\n",
      "k=12, silhouette_score=0.6819162453083392\n",
      "k=13, silhouette_score=0.6541310333686169\n",
      "k=14, silhouette_score=0.6950980480654412\n",
      "k=15, silhouette_score=0.6595076573939948\n",
      "k=16, silhouette_score=0.5960835366056073\n",
      "k=17, silhouette_score=0.48015183380308646\n",
      "k=18, silhouette_score=0.41788659971251585\n",
      "k=19, silhouette_score=0.41788659971251585\n",
      "k=20, silhouette_score=0.5178974930318293\n",
      "k=21, silhouette_score=0.4614405159523879\n",
      "k=22, silhouette_score=0.4026998450972693\n",
      "k=23, silhouette_score=0.3405441951153827\n",
      "k=24, silhouette_score=0.3139828788032779\n",
      "k=25, silhouette_score=0.3593709625322519\n",
      "k=26, silhouette_score=0.3593709625322519\n",
      "k=27, silhouette_score=0.3593709625322519\n",
      "k=28, silhouette_score=0.41079156989691074\n",
      "k=29, silhouette_score=0.3593709625322519\n",
      "k=30, silhouette_score=0.3593709625322519\n",
      "k=31, silhouette_score=0.3593709625322519\n",
      "k=32, silhouette_score=0.3593709625322519\n",
      "CPU times: user 199 ms, sys: 85.9 ms, total: 285 ms\n",
      "Wall time: 12.1 s\n"
     ]
    }
   ],
   "source": [
    "%%time \n",
    "\n",
    "from pyspark.ml.clustering import KMeans\n",
    "from pyspark.ml.evaluation import ClusteringEvaluator\n",
    "\n",
    "kvals = []\n",
    "silhouettes = []\n",
    "\n",
    "evaluator = ClusteringEvaluator()\n",
    "\n",
    "for k in range(2,33):\n",
    "    kmeans = KMeans().setK(k).setMaxIter(10)\n",
    "    model = kmeans.fit(featureVector)\n",
    "    predictions = model.transform(featureVector)\n",
    "    silhouette = evaluator.evaluate(predictions)\n",
    "    print (\"k={}, silhouette_score={}\".format(k, silhouette))\n",
    "    \n",
    "    kvals.append(k)\n",
    "    silhouettes.append(silhouette)"
   ]
  },
  {
   "cell_type": "markdown",
   "metadata": {},
   "source": [
    "## Step 7 - Plot Silhouette graph"
   ]
  },
  {
   "cell_type": "code",
   "execution_count": 14,
   "metadata": {},
   "outputs": [
    {
     "data": {
      "image/png": "[encoded data removed]",
      "text/plain": [
       "<Figure size 432x288 with 1 Axes>"
      ]
     },
     "metadata": {
      "needs_background": "light"
     },
     "output_type": "display_data"
    }
   ],
   "source": [
    "%matplotlib inline\n",
    "from matplotlib import pyplot\n",
    "\n",
    "pyplot.plot(kvals, silhouettes)\n",
    "pyplot.show()"
   ]
  }
 ],
 "metadata": {
  "anaconda-cloud": {},
  "kernelspec": {
   "display_name": "Python 3",
   "language": "python",
   "name": "python3"
  },
  "language_info": {
   "codemirror_mode": {
    "name": "ipython",
    "version": 3
   },
   "file_extension": ".py",
   "mimetype": "text/x-python",
   "name": "python",
   "nbconvert_exporter": "python",
   "pygments_lexer": "ipython3",
   "version": "3.8.3"
  }
 },
 "nbformat": 4,
 "nbformat_minor": 4
}
