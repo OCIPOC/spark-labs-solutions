{
 "cells": [
  {
   "cell_type": "markdown",
   "metadata": {},
   "source": [
    "# Spark MLLib Example: Clustering\n",
    "\n",
    "Let's look at a clustering example in Spark MLLib.\n",
    "\n",
    "Here, we are going to load the mtcars dataset. This has some stats on different models of cars.  Here, we will load the CSV file as a spark dataframe, and view it.\n",
    "\n",
    "This dataset contains some statistics on 1974 Cars from Motor Trends\n",
    "\n",
    "Here are the columns:\n",
    "* name   - name of the car\n",
    "*  mpg   - Miles/(US) gallon                        \n",
    "*  cyl   - Number of cylinders                      \n",
    "*  disp  - Displacement (cu.in.)                    \n",
    "*  hp    - Gross horsepower                         \n",
    "*  drat  - Rear axle ratio            \n",
    "\n",
    "Are there any natural clusters you can identify from this data?\n",
    "\n",
    "We are going to use **MPG and CYL** attributes to cluster.\n",
    "\n",
    "You can also download and view the raw data in Excel : [cars.csv](/data/cars/mtcars_header.csv)\n",
    "\n",
    "<img src=\"../../assets/images/6.1-cars2.png\" style=\"border: 5px solid grey; max-width:100%;\" />"
   ]
  },
  {
   "cell_type": "code",
   "execution_count": 1,
   "metadata": {},
   "outputs": [
    {
     "name": "stdout",
     "output_type": "stream",
     "text": [
      "Initializing Spark...\n",
      "Spark found in :  /home/ubuntu/apps/spark\n",
      "Spark config:\n",
      "\t spark.app.name=TestApp\n",
      "\tspark.master=local[*]\n",
      "\texecutor.memory=2g\n",
      "\tspark.sql.warehouse.dir=/tmp/tmprfxz7t0t\n",
      "\tsome_property=some_value\n",
      "Spark UI running on port 4040\n"
     ]
    }
   ],
   "source": [
    "# initialize Spark Session\n",
    "import os\n",
    "import sys\n",
    "top_dir = os.path.abspath(os.path.join(os.getcwd(), \"../../\"))\n",
    "if top_dir not in sys.path:\n",
    "    sys.path.append(top_dir)\n",
    "\n",
    "from init_spark import init_spark\n",
    "spark = init_spark()\n",
    "sc = spark.sparkContext"
   ]
  },
  {
   "cell_type": "markdown",
   "metadata": {},
   "source": [
    "## Step 1 : Load Data"
   ]
  },
  {
   "cell_type": "code",
   "execution_count": 2,
   "metadata": {},
   "outputs": [],
   "source": [
    "dataset = spark.read.csv(\"/data/cars/mtcars_header.csv\", header=True, inferSchema=True)"
   ]
  },
  {
   "cell_type": "code",
   "execution_count": 3,
   "metadata": {},
   "outputs": [
    {
     "name": "stdout",
     "output_type": "stream",
     "text": [
      "root\n",
      " |-- model: string (nullable = true)\n",
      " |-- mpg: double (nullable = true)\n",
      " |-- cyl: integer (nullable = true)\n",
      " |-- disp: double (nullable = true)\n",
      " |-- hp: integer (nullable = true)\n",
      " |-- drat: double (nullable = true)\n",
      " |-- wt: double (nullable = true)\n",
      " |-- qsec: double (nullable = true)\n",
      " |-- vs: integer (nullable = true)\n",
      " |-- am: integer (nullable = true)\n",
      " |-- gear: integer (nullable = true)\n",
      " |-- carb: integer (nullable = true)\n",
      "\n"
     ]
    }
   ],
   "source": [
    "## TODO : print schema\n",
    "## Hint : printSchema()\n",
    "dataset.printSchema()"
   ]
  },
  {
   "cell_type": "code",
   "execution_count": 4,
   "metadata": {},
   "outputs": [
    {
     "name": "stdout",
     "output_type": "stream",
     "text": [
      "+-------------------+----+---+-----+---+----+-----+-----+---+---+----+----+\n",
      "|              model| mpg|cyl| disp| hp|drat|   wt| qsec| vs| am|gear|carb|\n",
      "+-------------------+----+---+-----+---+----+-----+-----+---+---+----+----+\n",
      "|          Mazda RX4|21.0|  6|160.0|110| 3.9| 2.62|16.46|  0|  1|   4|   4|\n",
      "|      Mazda RX4 Wag|21.0|  6|160.0|110| 3.9|2.875|17.02|  0|  1|   4|   4|\n",
      "|         Datsun 710|22.8|  4|108.0| 93|3.85| 2.32|18.61|  1|  1|   4|   1|\n",
      "|     Hornet 4 Drive|21.4|  6|258.0|110|3.08|3.215|19.44|  1|  0|   3|   1|\n",
      "|  Hornet Sportabout|18.7|  8|360.0|175|3.15| 3.44|17.02|  0|  0|   3|   2|\n",
      "|            Valiant|18.1|  6|225.0|105|2.76| 3.46|20.22|  1|  0|   3|   1|\n",
      "|         Duster 360|14.3|  8|360.0|245|3.21| 3.57|15.84|  0|  0|   3|   4|\n",
      "|          Merc 240D|24.4|  4|146.7| 62|3.69| 3.19| 20.0|  1|  0|   4|   2|\n",
      "|           Merc 230|22.8|  4|140.8| 95|3.92| 3.15| 22.9|  1|  0|   4|   2|\n",
      "|           Merc 280|19.2|  6|167.6|123|3.92| 3.44| 18.3|  1|  0|   4|   4|\n",
      "|          Merc 280C|17.8|  6|167.6|123|3.92| 3.44| 18.9|  1|  0|   4|   4|\n",
      "|         Merc 450SE|16.4|  8|275.8|180|3.07| 4.07| 17.4|  0|  0|   3|   3|\n",
      "|         Merc 450SL|17.3|  8|275.8|180|3.07| 3.73| 17.6|  0|  0|   3|   3|\n",
      "|        Merc 450SLC|15.2|  8|275.8|180|3.07| 3.78| 18.0|  0|  0|   3|   3|\n",
      "| Cadillac Fleetwood|10.4|  8|472.0|205|2.93| 5.25|17.98|  0|  0|   3|   4|\n",
      "|Lincoln Continental|10.4|  8|460.0|215| 3.0|5.424|17.82|  0|  0|   3|   4|\n",
      "|  Chrysler Imperial|14.7|  8|440.0|230|3.23|5.345|17.42|  0|  0|   3|   4|\n",
      "|           Fiat 128|32.4|  4| 78.7| 66|4.08|  2.2|19.47|  1|  1|   4|   1|\n",
      "|        Honda Civic|30.4|  4| 75.7| 52|4.93|1.615|18.52|  1|  1|   4|   2|\n",
      "|     Toyota Corolla|33.9|  4| 71.1| 65|4.22|1.835| 19.9|  1|  1|   4|   1|\n",
      "+-------------------+----+---+-----+---+----+-----+-----+---+---+----+----+\n",
      "only showing top 20 rows\n",
      "\n"
     ]
    }
   ],
   "source": [
    "## TODO : display the data\n",
    "## Hint : show\n",
    "dataset.show()"
   ]
  },
  {
   "cell_type": "markdown",
   "metadata": {},
   "source": [
    "## Step 2 : Extract data\n",
    "We only care about 'model', 'mpg' and 'cyl' columns"
   ]
  },
  {
   "cell_type": "code",
   "execution_count": 5,
   "metadata": {},
   "outputs": [
    {
     "name": "stdout",
     "output_type": "stream",
     "text": [
      "+-------------------+----+---+\n",
      "|              model| mpg|cyl|\n",
      "+-------------------+----+---+\n",
      "|          Mazda RX4|21.0|  6|\n",
      "|      Mazda RX4 Wag|21.0|  6|\n",
      "|         Datsun 710|22.8|  4|\n",
      "|     Hornet 4 Drive|21.4|  6|\n",
      "|  Hornet Sportabout|18.7|  8|\n",
      "|            Valiant|18.1|  6|\n",
      "|         Duster 360|14.3|  8|\n",
      "|          Merc 240D|24.4|  4|\n",
      "|           Merc 230|22.8|  4|\n",
      "|           Merc 280|19.2|  6|\n",
      "|          Merc 280C|17.8|  6|\n",
      "|         Merc 450SE|16.4|  8|\n",
      "|         Merc 450SL|17.3|  8|\n",
      "|        Merc 450SLC|15.2|  8|\n",
      "| Cadillac Fleetwood|10.4|  8|\n",
      "|Lincoln Continental|10.4|  8|\n",
      "|  Chrysler Imperial|14.7|  8|\n",
      "|           Fiat 128|32.4|  4|\n",
      "|        Honda Civic|30.4|  4|\n",
      "|     Toyota Corolla|33.9|  4|\n",
      "+-------------------+----+---+\n",
      "only showing top 20 rows\n",
      "\n"
     ]
    }
   ],
   "source": [
    "## TODO : extract the columns we need : model, mpg and cyl\n",
    "dataset2 = dataset.select([\"model\", \"mpg\", \"cyl\"])\n",
    "dataset2.show()"
   ]
  },
  {
   "cell_type": "markdown",
   "metadata": {},
   "source": [
    "## Step 3 : Creating Vectors\n",
    "\n",
    "Now that we have ourselves a dataframe, let's work on turning it into vectors.  We're going to vectorize 2 columns:\n",
    "\n",
    "1. MPG\n",
    "2. Number of cylinders.\n",
    "\n",
    "What we'll do, is we'll use the VectorAssembler class to create a new column by the name of features. This will be a Vector."
   ]
  },
  {
   "cell_type": "code",
   "execution_count": 6,
   "metadata": {},
   "outputs": [
    {
     "name": "stdout",
     "output_type": "stream",
     "text": [
      "+-------------------+----+---+----------+\n",
      "|              model| mpg|cyl|  features|\n",
      "+-------------------+----+---+----------+\n",
      "|          Mazda RX4|21.0|  6|[21.0,6.0]|\n",
      "|      Mazda RX4 Wag|21.0|  6|[21.0,6.0]|\n",
      "|         Datsun 710|22.8|  4|[22.8,4.0]|\n",
      "|     Hornet 4 Drive|21.4|  6|[21.4,6.0]|\n",
      "|  Hornet Sportabout|18.7|  8|[18.7,8.0]|\n",
      "|            Valiant|18.1|  6|[18.1,6.0]|\n",
      "|         Duster 360|14.3|  8|[14.3,8.0]|\n",
      "|          Merc 240D|24.4|  4|[24.4,4.0]|\n",
      "|           Merc 230|22.8|  4|[22.8,4.0]|\n",
      "|           Merc 280|19.2|  6|[19.2,6.0]|\n",
      "|          Merc 280C|17.8|  6|[17.8,6.0]|\n",
      "|         Merc 450SE|16.4|  8|[16.4,8.0]|\n",
      "|         Merc 450SL|17.3|  8|[17.3,8.0]|\n",
      "|        Merc 450SLC|15.2|  8|[15.2,8.0]|\n",
      "| Cadillac Fleetwood|10.4|  8|[10.4,8.0]|\n",
      "|Lincoln Continental|10.4|  8|[10.4,8.0]|\n",
      "|  Chrysler Imperial|14.7|  8|[14.7,8.0]|\n",
      "|           Fiat 128|32.4|  4|[32.4,4.0]|\n",
      "|        Honda Civic|30.4|  4|[30.4,4.0]|\n",
      "|     Toyota Corolla|33.9|  4|[33.9,4.0]|\n",
      "+-------------------+----+---+----------+\n",
      "only showing top 20 rows\n",
      "\n"
     ]
    }
   ],
   "source": [
    "from pyspark.ml.feature import VectorAssembler\n",
    "\n",
    "## TODO : create featureVector with 'mpg' and 'cyl'\n",
    "## Hint :  inputCols=['mpg', 'cyl']\n",
    "assembler = VectorAssembler(inputCols=[\"mpg\", \"cyl\"], outputCol=\"features\")\n",
    "featureVector = assembler.transform(dataset2)\n",
    "featureVector.show()"
   ]
  },
  {
   "cell_type": "markdown",
   "metadata": {},
   "source": [
    "### WSSSE calcluations"
   ]
  },
  {
   "cell_type": "code",
   "execution_count": 7,
   "metadata": {},
   "outputs": [],
   "source": [
    "# from : https://spark.apache.org/docs/3.0.0-preview/mllib-clustering.html\n",
    "\n",
    "# # Build the model (cluster the data)\n",
    "# clusters = KMeans.train(parsedData, 2, maxIterations=10, initializationMode=\"random\")\n",
    "\n",
    "# Evaluate clustering by computing Within Set Sum of Squared Errors\n",
    "# def error(point, clusters):\n",
    "#     center = clusters.centers[clusters.predict(point)]\n",
    "#     return sqrt(sum([x**2 for x in (point - center)]))\n",
    "\n",
    "# WSSSE = predictions.rdd.map(lambda row: error(row['features'], model.clusterCenters())).reduce(lambda x, y: x + y)\n",
    "\n",
    "\n",
    "import numpy as np\n",
    "\n",
    "def calculate_wsse (predictions, model):\n",
    "    centers = model.clusterCenters()\n",
    "    \n",
    "    wssse = 0\n",
    "    for i, row in enumerate(predictions.collect()):\n",
    "        feature = row['features']\n",
    "        prediction = row['prediction']\n",
    "        center = centers[prediction]\n",
    "        diff = feature - center\n",
    "        error = np.sqrt(sum([x**2 for x in diff]))\n",
    "        wssse += error\n",
    "        # print ('row={}, feature : {} , prediction : {} , center : {},  diff : {}, error : {},  wssse={}'.\n",
    "        #      format(i, feature, prediction, center, diff, error, wssse))\n",
    "        \n",
    "    return wssse\n"
   ]
  },
  {
   "cell_type": "markdown",
   "metadata": {},
   "source": [
    "## Step 4 : Running Kmeans\n",
    "\n",
    "Now it's time to run kmeans on the resultant dataframe. We don't know what value of k to use, so let's just start with k=2.  This means we will cluster into two groups.\n",
    "\n",
    "We will fit a model to the data, and then train it.\n",
    "\n",
    "### 4.1 - Run KMeans"
   ]
  },
  {
   "cell_type": "code",
   "execution_count": 8,
   "metadata": {},
   "outputs": [
    {
     "name": "stdout",
     "output_type": "stream",
     "text": [
      "CPU times: user 7.41 ms, sys: 0 ns, total: 7.41 ms\n",
      "Wall time: 1.46 s\n"
     ]
    }
   ],
   "source": [
    "%%time \n",
    "\n",
    "from pyspark.ml.clustering import KMeans\n",
    "\n",
    "k = 2\n",
    "kmeans = KMeans().setK(k).setMaxIter(10)\n",
    "model = kmeans.fit(featureVector)\n"
   ]
  },
  {
   "cell_type": "markdown",
   "metadata": {},
   "source": [
    "### 4.2 -  Predict\n",
    "\n",
    "Notice what we have here.  We have two clusters. One is smaller, fuel efficient cars like the Fiat and the Corolla (remember, we cluster on two variables only: mpg and cyl).  The other is for basically all other cars.  Probably, we can get better results here with a differnet value of k."
   ]
  },
  {
   "cell_type": "code",
   "execution_count": 9,
   "metadata": {},
   "outputs": [
    {
     "name": "stdout",
     "output_type": "stream",
     "text": [
      "+-------------------+----+---+----------+----------+\n",
      "|              model| mpg|cyl|  features|prediction|\n",
      "+-------------------+----+---+----------+----------+\n",
      "| Cadillac Fleetwood|10.4|  8|[10.4,8.0]|         0|\n",
      "|Lincoln Continental|10.4|  8|[10.4,8.0]|         0|\n",
      "|         Camaro Z28|13.3|  8|[13.3,8.0]|         0|\n",
      "|         Duster 360|14.3|  8|[14.3,8.0]|         0|\n",
      "|  Chrysler Imperial|14.7|  8|[14.7,8.0]|         0|\n",
      "|      Maserati Bora|15.0|  8|[15.0,8.0]|         0|\n",
      "|        AMC Javelin|15.2|  8|[15.2,8.0]|         0|\n",
      "|        Merc 450SLC|15.2|  8|[15.2,8.0]|         0|\n",
      "|   Dodge Challenger|15.5|  8|[15.5,8.0]|         0|\n",
      "|     Ford Pantera L|15.8|  8|[15.8,8.0]|         0|\n",
      "|         Merc 450SE|16.4|  8|[16.4,8.0]|         0|\n",
      "|         Merc 450SL|17.3|  8|[17.3,8.0]|         0|\n",
      "|          Merc 280C|17.8|  6|[17.8,6.0]|         0|\n",
      "|            Valiant|18.1|  6|[18.1,6.0]|         0|\n",
      "|  Hornet Sportabout|18.7|  8|[18.7,8.0]|         0|\n",
      "|           Merc 280|19.2|  6|[19.2,6.0]|         0|\n",
      "|   Pontiac Firebird|19.2|  8|[19.2,8.0]|         0|\n",
      "|       Ferrari Dino|19.7|  6|[19.7,6.0]|         0|\n",
      "|          Mazda RX4|21.0|  6|[21.0,6.0]|         0|\n",
      "|      Mazda RX4 Wag|21.0|  6|[21.0,6.0]|         0|\n",
      "|     Hornet 4 Drive|21.4|  6|[21.4,6.0]|         1|\n",
      "|         Volvo 142E|21.4|  4|[21.4,4.0]|         1|\n",
      "|      Toyota Corona|21.5|  4|[21.5,4.0]|         1|\n",
      "|         Datsun 710|22.8|  4|[22.8,4.0]|         1|\n",
      "|           Merc 230|22.8|  4|[22.8,4.0]|         1|\n",
      "|          Merc 240D|24.4|  4|[24.4,4.0]|         1|\n",
      "|      Porsche 914-2|26.0|  4|[26.0,4.0]|         1|\n",
      "|          Fiat X1-9|27.3|  4|[27.3,4.0]|         1|\n",
      "|        Honda Civic|30.4|  4|[30.4,4.0]|         1|\n",
      "|       Lotus Europa|30.4|  4|[30.4,4.0]|         1|\n",
      "|           Fiat 128|32.4|  4|[32.4,4.0]|         1|\n",
      "|     Toyota Corolla|33.9|  4|[33.9,4.0]|         1|\n",
      "+-------------------+----+---+----------+----------+\n",
      "\n"
     ]
    }
   ],
   "source": [
    "predictions = model.transform(featureVector)\n",
    "predictions.orderBy(['prediction', 'mpg']).show(32)"
   ]
  },
  {
   "cell_type": "markdown",
   "metadata": {},
   "source": [
    "### 4.3 - Calculate the kmeans WSSSE and Silhouette score\n",
    "\n",
    "**WSSSE** is an error metric that calcluates how far away points is from their center.  The less the better.\n",
    "\n",
    "**Silhouette** score is used to evaluate the quality of clusters created using clustering algorithms such as K-Means.  \n",
    "Silhoutte score ranges from -1 to +1.  \n",
    "The silhouette score of 1 means that the clusters are very dense and nicely separated.  \n",
    "The score of 0 means that clusters are overlapping.  \n",
    "The score of less than 0 means that data belonging to clusters may be wrong/incorrect."
   ]
  },
  {
   "cell_type": "code",
   "execution_count": 10,
   "metadata": {},
   "outputs": [
    {
     "name": "stdout",
     "output_type": "stream",
     "text": [
      "k=2, wssse=99.77525055150555,  silhouette_score=0.6950564530650924\n"
     ]
    }
   ],
   "source": [
    "from pyspark.ml.evaluation import ClusteringEvaluator\n",
    "\n",
    "wssse = calculate_wsse(predictions, model)\n",
    "\n",
    "evaluator = ClusteringEvaluator()\n",
    "silhouette = evaluator.evaluate(predictions)\n",
    "print (\"k={}, wssse={},  silhouette_score={}\".format(k, wssse, silhouette))"
   ]
  },
  {
   "cell_type": "markdown",
   "metadata": {},
   "source": [
    "## Step 5 : Adjust K"
   ]
  },
  {
   "cell_type": "code",
   "execution_count": 11,
   "metadata": {},
   "outputs": [],
   "source": [
    "k = 3\n",
    "kmeans = KMeans().setK(k).setMaxIter(10)\n",
    "model = kmeans.fit(featureVector)"
   ]
  },
  {
   "cell_type": "code",
   "execution_count": 12,
   "metadata": {},
   "outputs": [
    {
     "name": "stdout",
     "output_type": "stream",
     "text": [
      "+-------------------+----+---+----------+----------+\n",
      "|              model| mpg|cyl|  features|prediction|\n",
      "+-------------------+----+---+----------+----------+\n",
      "|          Merc 280C|17.8|  6|[17.8,6.0]|         0|\n",
      "|            Valiant|18.1|  6|[18.1,6.0]|         0|\n",
      "|  Hornet Sportabout|18.7|  8|[18.7,8.0]|         0|\n",
      "|   Pontiac Firebird|19.2|  8|[19.2,8.0]|         0|\n",
      "|           Merc 280|19.2|  6|[19.2,6.0]|         0|\n",
      "|       Ferrari Dino|19.7|  6|[19.7,6.0]|         0|\n",
      "|      Mazda RX4 Wag|21.0|  6|[21.0,6.0]|         0|\n",
      "|          Mazda RX4|21.0|  6|[21.0,6.0]|         0|\n",
      "|     Hornet 4 Drive|21.4|  6|[21.4,6.0]|         0|\n",
      "|         Volvo 142E|21.4|  4|[21.4,4.0]|         0|\n",
      "|      Toyota Corona|21.5|  4|[21.5,4.0]|         0|\n",
      "|         Datsun 710|22.8|  4|[22.8,4.0]|         0|\n",
      "|           Merc 230|22.8|  4|[22.8,4.0]|         0|\n",
      "|          Merc 240D|24.4|  4|[24.4,4.0]|         0|\n",
      "|      Porsche 914-2|26.0|  4|[26.0,4.0]|         1|\n",
      "|          Fiat X1-9|27.3|  4|[27.3,4.0]|         1|\n",
      "|       Lotus Europa|30.4|  4|[30.4,4.0]|         1|\n",
      "|        Honda Civic|30.4|  4|[30.4,4.0]|         1|\n",
      "|           Fiat 128|32.4|  4|[32.4,4.0]|         1|\n",
      "|     Toyota Corolla|33.9|  4|[33.9,4.0]|         1|\n",
      "| Cadillac Fleetwood|10.4|  8|[10.4,8.0]|         2|\n",
      "|Lincoln Continental|10.4|  8|[10.4,8.0]|         2|\n",
      "|         Camaro Z28|13.3|  8|[13.3,8.0]|         2|\n",
      "|         Duster 360|14.3|  8|[14.3,8.0]|         2|\n",
      "|  Chrysler Imperial|14.7|  8|[14.7,8.0]|         2|\n",
      "|      Maserati Bora|15.0|  8|[15.0,8.0]|         2|\n",
      "|        Merc 450SLC|15.2|  8|[15.2,8.0]|         2|\n",
      "|        AMC Javelin|15.2|  8|[15.2,8.0]|         2|\n",
      "|   Dodge Challenger|15.5|  8|[15.5,8.0]|         2|\n",
      "|     Ford Pantera L|15.8|  8|[15.8,8.0]|         2|\n",
      "|         Merc 450SE|16.4|  8|[16.4,8.0]|         2|\n",
      "|         Merc 450SL|17.3|  8|[17.3,8.0]|         2|\n",
      "+-------------------+----+---+----------+----------+\n",
      "\n"
     ]
    }
   ],
   "source": [
    "predictions = model.transform(featureVector)\n",
    "predictions.orderBy(['prediction', 'mpg']).show(32)"
   ]
  },
  {
   "cell_type": "code",
   "execution_count": 13,
   "metadata": {},
   "outputs": [
    {
     "name": "stdout",
     "output_type": "stream",
     "text": [
      "k=3, wssse=61.393104530799356,  silhouette_score=0.7320664467622322\n"
     ]
    }
   ],
   "source": [
    "from pyspark.ml.evaluation import ClusteringEvaluator\n",
    "\n",
    "\n",
    "wssse = calculate_wsse(predictions, model)\n",
    "\n",
    "evaluator = ClusteringEvaluator()\n",
    "silhouette = evaluator.evaluate(predictions)\n",
    "print (\"k={}, wssse={},  silhouette_score={}\".format(k, wssse, silhouette))"
   ]
  },
  {
   "cell_type": "markdown",
   "metadata": {},
   "source": [
    "## Step 6 : Iterate over K\n",
    "We are going to calculate WSSSE for various values of K:"
   ]
  },
  {
   "cell_type": "code",
   "execution_count": 14,
   "metadata": {},
   "outputs": [
    {
     "name": "stdout",
     "output_type": "stream",
     "text": [
      "k=2, wssse=99.77525055150555,  silhouette_score=0.6950564530650924\n",
      "k=3, wssse=61.393104530799356,  silhouette_score=0.7320664467622322\n",
      "k=4, wssse=56.7264378641327,  silhouette_score=0.6569995482041953\n",
      "k=5, wssse=45.699771197466056,  silhouette_score=0.6190384560916312\n",
      "k=6, wssse=36.64403561760776,  silhouette_score=0.6295003785872508\n",
      "k=7, wssse=35.14403561760776,  silhouette_score=0.5449900754165573\n",
      "k=8, wssse=25.02833333333333,  silhouette_score=0.6854989905741067\n",
      "k=9, wssse=20.990569207483237,  silhouette_score=0.5989749388909312\n",
      "k=10, wssse=16.608888888888888,  silhouette_score=0.7615296996242591\n",
      "k=11, wssse=14.788888888888891,  silhouette_score=0.7578372929174837\n",
      "k=12, wssse=12.18888888888889,  silhouette_score=0.8056334914386213\n",
      "k=13, wssse=10.366666666666667,  silhouette_score=0.7534680327519525\n",
      "k=14, wssse=9.499999999999996,  silhouette_score=0.6496778501449681\n",
      "k=15, wssse=7.273333333333339,  silhouette_score=0.7698305235577946\n",
      "k=16, wssse=5.973333333333338,  silhouette_score=0.7342401328863482\n",
      "k=17, wssse=4.983333333333331,  silhouette_score=0.7057120445599184\n",
      "k=18, wssse=3.4833333333333307,  silhouette_score=0.666529965478275\n",
      "k=19, wssse=2.9833333333333307,  silhouette_score=0.610180062289855\n",
      "k=20, wssse=2.4499999999999993,  silhouette_score=0.5835116720867288\n",
      "k=21, wssse=1.9000000000000021,  silhouette_score=0.5285121815464209\n",
      "k=22, wssse=1.6000000000000014,  silhouette_score=0.4697715106913023\n",
      "k=23, wssse=1.1666666666666679,  silhouette_score=0.4778765157025586\n",
      "k=24, wssse=0.9000000000000021,  silhouette_score=0.4544430531702083\n",
      "k=25, wssse=0.6000000000000014,  silhouette_score=0.43100555317029954\n",
      "k=26, wssse=0.10000000000000142,  silhouette_score=0.3746556499818795\n",
      "k=27, wssse=0.0,  silhouette_score=0.3124999999999929\n",
      "k=28, wssse=0.0,  silhouette_score=0.3124999999999929\n",
      "k=29, wssse=0.0,  silhouette_score=0.3124999999999929\n",
      "k=30, wssse=0.0,  silhouette_score=0.3124999999999929\n",
      "k=31, wssse=0.0,  silhouette_score=0.3124999999999929\n",
      "k=32, wssse=0.0,  silhouette_score=0.3124999999999929\n",
      "CPU times: user 361 ms, sys: 71 ms, total: 432 ms\n",
      "Wall time: 11.3 s\n"
     ]
    }
   ],
   "source": [
    "%%time \n",
    "\n",
    "from pyspark.ml.clustering import KMeans\n",
    "from pyspark.ml.evaluation import ClusteringEvaluator\n",
    "\n",
    "kvals = []\n",
    "silhouettes = []\n",
    "wssses = []\n",
    "\n",
    "evaluator = ClusteringEvaluator()\n",
    "\n",
    "for k in range(2,33):\n",
    "    kmeans = KMeans().setK(k).setMaxIter(10)\n",
    "    model = kmeans.fit(featureVector)\n",
    "    predictions = model.transform(featureVector)\n",
    "    wssse = calculate_wsse (predictions, model)\n",
    "    silhouette = evaluator.evaluate(predictions)\n",
    "    print (\"k={}, wssse={},  silhouette_score={}\".format(k, wssse, silhouette))\n",
    "    \n",
    "    kvals.append(k)\n",
    "    wssses.append(wssse)\n",
    "    silhouettes.append(silhouette)"
   ]
  },
  {
   "cell_type": "markdown",
   "metadata": {},
   "source": [
    "## Step 7 - Plot Silhouette / WSSSE graph"
   ]
  },
  {
   "cell_type": "code",
   "execution_count": 15,
   "metadata": {},
   "outputs": [
    {
     "data": {
      "image/png": "[encoded data removed]",
      "text/plain": [
       "<Figure size 432x288 with 1 Axes>"
      ]
     },
     "metadata": {
      "needs_background": "light"
     },
     "output_type": "display_data"
    }
   ],
   "source": [
    "%matplotlib inline\n",
    "from matplotlib import pyplot\n",
    "\n",
    "pyplot.plot(kvals, silhouettes)\n",
    "pyplot.xlabel('k')\n",
    "pyplot.ylabel('silhouette score')\n",
    "pyplot.show()"
   ]
  },
  {
   "cell_type": "code",
   "execution_count": 16,
   "metadata": {},
   "outputs": [
    {
     "data": {
      "image/png": "[encoded data removed]",
      "text/plain": [
       "<Figure size 432x288 with 1 Axes>"
      ]
     },
     "metadata": {
      "needs_background": "light"
     },
     "output_type": "display_data"
    }
   ],
   "source": [
    "pyplot.plot(kvals, wssses)\n",
    "pyplot.xlabel('k')\n",
    "pyplot.ylabel('wssse')\n",
    "pyplot.show()"
   ]
  },
  {
   "cell_type": "code",
   "execution_count": null,
   "metadata": {},
   "outputs": [],
   "source": []
  }
 ],
 "metadata": {
  "anaconda-cloud": {},
  "kernelspec": {
   "display_name": "Python 3",
   "language": "python",
   "name": "python3"
  },
  "language_info": {
   "codemirror_mode": {
    "name": "ipython",
    "version": 3
   },
   "file_extension": ".py",
   "mimetype": "text/x-python",
   "name": "python",
   "nbconvert_exporter": "python",
   "pygments_lexer": "ipython3",
   "version": "3.8.2"
  }
 },
 "nbformat": 4,
 "nbformat_minor": 4
}
