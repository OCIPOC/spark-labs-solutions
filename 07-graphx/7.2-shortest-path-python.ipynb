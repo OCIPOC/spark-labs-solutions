{
 "cells": [
  {
   "cell_type": "markdown",
   "metadata": {},
   "source": [
    "<link rel='stylesheet' href='../assets/css/main.css'/>\n",
    "\n",
    "[<< back to main index](../../README.md) \n",
    "\n",
    "7.2 : Graphx Shortest Path\n",
    "============================\n",
    "\n",
    "### Overview\n",
    "We will find the shortest path on the graph from one point to another. The lab is done by executing each step\n",
    "in the Spark shell. <br>This allows the student to examine and understand each step, and to modify parameters as we go.<br>\n",
    "After you have executed the code in each step individually, you will collect this code in script.\n",
    "\n",
    "For our data, we will use LinkedIn. Therefore, the shortest path will tell us how to connect to the target person\n",
    "we want to connect with.\n",
    "\n",
    "<img src=\"../assets/images/7.2-connections.png\" style=\"border: 5px solid grey; max-width:100%;\" />\n",
    "\n",
    "### Depends On \n",
    "None\n",
    "\n",
    "### Run time\n",
    "30 mins\n",
    "\n",
    "\n",
    "## STEP 1: Start Pyspark with GraphFrames library loaded\n",
    "\n",
    "**option 1 : Jupyter**\n",
    "\n",
    "**Note:** Jupyter lab will be already running on the port 8888.\n",
    "So, kill the process first.\n",
    "```bash\n",
    "$ sudo netstat -plnt | grep 8888\n",
    "The process id will be shown in the output.Replace process id in the kill command\n",
    "\n",
    "$ sudo kill -9 process id\n",
    "```\n",
    "\n",
    "```bash\n",
    "$ PYSPARK_PYTHON=python3 PYSPARK_DRIVER_PYTHON=jupyter PYSPARK_DRIVER_PYTHON_OPTS=notebook ~/apps/spark/bin/pyspark --packages graphframes:graphframes:0.7.0-spark2.4-s_2.11\n",
    "```\n",
    "\n",
    "**option 2 : PySpark (command line)**\n",
    "```bash\n",
    "$ PYSPARK_PYTHON=python3  ~/apps/spark/bin/pyspark --packages graphframes:graphframes:0.7.0-spark2.4-s_2.11\n",
    "```\n",
    "\n",
    "Replace the version on graphframes with your latest."
   ]
  },
  {
   "cell_type": "markdown",
   "metadata": {},
   "source": [
    "## Step 2: Import the GraphFrame libraries"
   ]
  },
  {
   "cell_type": "code",
   "execution_count": 2,
   "metadata": {},
   "outputs": [
    {
     "name": "stdout",
     "output_type": "stream",
     "text": [
      "Initializing Spark...\n",
      "Spark found in :  /home/ubuntu/spark\n",
      "Spark config:\n",
      "\t executor.memory=2g\n",
      "\tsome_property=some_value\n",
      "\tspark.app.name=TestApp\n",
      "\tspark.files=file:///home/ubuntu/.ivy2/jars/graphframes_graphframes-0.7.0-spark2.4-s_2.11.jar,file:///home/ubuntu/.ivy2/jars/org.slf4j_slf4j-api-1.7.16.jar\n",
      "\tspark.jars=file:///home/ubuntu/.ivy2/jars/graphframes_graphframes-0.7.0-spark2.4-s_2.11.jar,file:///home/ubuntu/.ivy2/jars/org.slf4j_slf4j-api-1.7.16.jar\n",
      "\tspark.master=local[*]\n",
      "\tspark.repl.local.jars=file:///home/ubuntu/.ivy2/jars/graphframes_graphframes-0.7.0-spark2.4-s_2.11.jar,file:///home/ubuntu/.ivy2/jars/org.slf4j_slf4j-api-1.7.16.jar\n",
      "\tspark.sql.warehouse.dir=/tmp/tmp5hb2r5jn\n",
      "\tspark.submit.deployMode=client\n",
      "\tspark.submit.pyFiles=/home/ubuntu/.ivy2/jars/graphframes_graphframes-0.7.0-spark2.4-s_2.11.jar,/home/ubuntu/.ivy2/jars/org.slf4j_slf4j-api-1.7.16.jar\n",
      "\tspark.ui.showConsoleProgress=true\n",
      "Spark UI running on port 4045\n"
     ]
    }
   ],
   "source": [
    "# initialize Spark Session\n",
    "import os\n",
    "import sys\n",
    "top_dir = os.path.abspath(os.path.join(os.getcwd(), \"../\"))\n",
    "if top_dir not in sys.path:\n",
    "    sys.path.append(top_dir)\n",
    "\n",
    "from init_spark import init_spark\n",
    "spark = init_spark()\n",
    "sc = spark.sparkContext"
   ]
  },
  {
   "cell_type": "code",
   "execution_count": 3,
   "metadata": {
    "attributes": {
     "classes": [
      "scala"
     ],
     "id": ""
    },
    "collapsed": true
   },
   "outputs": [],
   "source": [
    "from graphframes import *"
   ]
  },
  {
   "cell_type": "markdown",
   "metadata": {},
   "source": [
    "## Step 3: Construct the nodes / vertices\n",
    "\n",
    "This is the graph we are modeling.  In this graph, we have the user name and the number of connections. The number of connections is a natural things to have;  we will store it, but not use it at this time.\n",
    "\n",
    "<img src=\"../assets/images/7.2-network.png\" style=\"border: 5px solid grey; max-width:100%;\" />"
   ]
  },
  {
   "cell_type": "code",
   "execution_count": 5,
   "metadata": {
    "attributes": {
     "classes": [
      "scala"
     ],
     "id": ""
    },
    "collapsed": true
   },
   "outputs": [
    {
     "name": "stdout",
     "output_type": "stream",
     "text": [
      "+---+----------------+--------------+\n",
      "| id|            name|numconnections|\n",
      "+---+----------------+--------------+\n",
      "|  1|    Mark Kerzner|          2757|\n",
      "|  2|   Sujee Maniyam|           891|\n",
      "|  3|Yaakov Weintraub|           105|\n",
      "|  4|Packt Publishing|          2984|\n",
      "|  5|   Barry Kaufman|           500|\n",
      "|  6|     Tony Piazza|           500|\n",
      "|  7|         Tim Fox|           500|\n",
      "|  8|    Vamsi Sistla|          1000|\n",
      "+---+----------------+--------------+\n",
      "\n"
     ]
    }
   ],
   "source": [
    "vertices = spark.createDataFrame([\n",
    "        #direct connections\n",
    "        (1, \"Mark Kerzner\", 2757), # (Id, Name, no of connections)\n",
    "        (2, \"Sujee Maniyam\", 891),\n",
    "        (3, \"Yaakov Weintraub\", 105),\n",
    "        (4, \"Packt Publishing\", 2984),\n",
    "        (5, \"Barry Kaufman\", 500),\n",
    "        # indirect connections\n",
    "        (6, \"Tony Piazza\", 500),\n",
    "        (7, \"Tim Fox\", 500),\n",
    "        (8, \"Vamsi Sistla\", 1000)\n",
    "], [\"id\", \"name\", \"numconnections\"])\n",
    "\n",
    "vertices.show()"
   ]
  },
  {
   "cell_type": "markdown",
   "metadata": {},
   "source": [
    "## Step 4: Initialize connections on the graph\n",
    "Connections are represented as edges.  Go ahead and create an `edgeArray` to represent the graph data in picture.  \n",
    "For example, a connection from \n",
    "- **Mark Kerzner (1)** \n",
    "- to **Sujee Maniyam (2)** \n",
    "- is represented as  **(1, 2, 1)**\n",
    "\n",
    "All connections have a weight of `1`.  Complete the following"
   ]
  },
  {
   "cell_type": "code",
   "execution_count": 14,
   "metadata": {
    "attributes": {
     "classes": [
      "scala"
     ],
     "id": ""
    },
    "collapsed": true
   },
   "outputs": [
    {
     "name": "stdout",
     "output_type": "stream",
     "text": [
      "+---+---+------+\n",
      "|src|dst|weight|\n",
      "+---+---+------+\n",
      "|  1|  2|     1|\n",
      "|  1|  3|     1|\n",
      "|  1|  4|     1|\n",
      "|  1|  5|     1|\n",
      "|  2|  6|     1|\n",
      "|  6|  7|     1|\n",
      "|  3|  7|     1|\n",
      "|  3|  8|     1|\n",
      "|  7|  8|     1|\n",
      "+---+---+------+\n",
      "\n"
     ]
    }
   ],
   "source": [
    "edges = spark.createDataFrame([\n",
    "        (1, 2, 1),\n",
    "        (1, 3, 1),\n",
    "        # TODO : add in other edges to represent graph in picture\n",
    "        (1, 4, 1),\n",
    "        (1, 5, 1),\n",
    "        (2, 6, 1),\n",
    "        (6, 7, 1),\n",
    "        (3, 7, 1),\n",
    "        (3, 8, 1),\n",
    "        (7, 8, 1),\n",
    "], [\"src\", \"dst\", \"weight\"])\n",
    "\n",
    "edges.show()"
   ]
  },
  {
   "cell_type": "markdown",
   "metadata": {},
   "source": [
    "## Step 5: Create the graph"
   ]
  },
  {
   "cell_type": "code",
   "execution_count": 7,
   "metadata": {
    "attributes": {
     "classes": [
      "scala"
     ],
     "id": ""
    },
    "collapsed": true
   },
   "outputs": [],
   "source": [
    "graph = GraphFrame(vertices, edges)"
   ]
  },
  {
   "cell_type": "markdown",
   "metadata": {},
   "source": [
    "## Step 6 : Print the graph"
   ]
  },
  {
   "cell_type": "code",
   "execution_count": 8,
   "metadata": {
    "attributes": {
     "classes": [
      "scala"
     ],
     "id": ""
    },
    "collapsed": true
   },
   "outputs": [
    {
     "name": "stdout",
     "output_type": "stream",
     "text": [
      "+---+----------------+--------------+\n",
      "| id|            name|numconnections|\n",
      "+---+----------------+--------------+\n",
      "|  1|    Mark Kerzner|          2757|\n",
      "|  2|   Sujee Maniyam|           891|\n",
      "|  3|Yaakov Weintraub|           105|\n",
      "|  4|Packt Publishing|          2984|\n",
      "|  5|   Barry Kaufman|           500|\n",
      "|  6|     Tony Piazza|           500|\n",
      "|  7|         Tim Fox|           500|\n",
      "|  8|    Vamsi Sistla|          1000|\n",
      "+---+----------------+--------------+\n",
      "\n"
     ]
    }
   ],
   "source": [
    "graph.vertices.show()"
   ]
  },
  {
   "cell_type": "code",
   "execution_count": 9,
   "metadata": {
    "collapsed": true
   },
   "outputs": [
    {
     "name": "stdout",
     "output_type": "stream",
     "text": [
      "+---+---+------+\n",
      "|src|dst|weight|\n",
      "+---+---+------+\n",
      "|  1|  2|     1|\n",
      "|  1|  3|     1|\n",
      "|  1|  4|     1|\n",
      "|  1|  5|     1|\n",
      "|  2|  6|     1|\n",
      "|  6|  7|     1|\n",
      "|  3|  7|     1|\n",
      "|  3|  8|     1|\n",
      "|  7|  8|     1|\n",
      "+---+---+------+\n",
      "\n"
     ]
    }
   ],
   "source": [
    "graph.edges.show()"
   ]
  },
  {
   "cell_type": "markdown",
   "metadata": {},
   "source": [
    "## Step 9: Compute shortest distances\n",
    "\n",
    "<img src=\"../assets/images/7.2c.png\" style=\"border: 5px solid grey; max-width:100%;\" />\n",
    "\n",
    "Use Pregel to compute shortest distances between the root and every other vertex on the graph. \n",
    "Please note that since computing the shortest distance between two vertices anyway involves computing many intermediate short distances,\n",
    "Pregel takes a generic approach of computing all shortest distances"
   ]
  },
  {
   "cell_type": "code",
   "execution_count": 11,
   "metadata": {
    "attributes": {
     "classes": [
      "scala"
     ],
     "id": ""
    },
    "collapsed": true
   },
   "outputs": [
    {
     "name": "stdout",
     "output_type": "stream",
     "text": [
      "+---+----------------+--------------+----------------+\n",
      "| id|            name|numconnections|       distances|\n",
      "+---+----------------+--------------+----------------+\n",
      "|  7|         Tim Fox|           500|              []|\n",
      "|  6|     Tony Piazza|           500|              []|\n",
      "|  5|   Barry Kaufman|           500|              []|\n",
      "|  1|    Mark Kerzner|          2757|[1 -> 0, 2 -> 1]|\n",
      "|  3|Yaakov Weintraub|           105|              []|\n",
      "|  8|    Vamsi Sistla|          1000|              []|\n",
      "|  2|   Sujee Maniyam|           891|        [2 -> 0]|\n",
      "|  4|Packt Publishing|          2984|              []|\n",
      "+---+----------------+--------------+----------------+\n",
      "\n"
     ]
    }
   ],
   "source": [
    "# hint : landmarks : src, destinations\n",
    "\n",
    "# from Mark(1) to Sujee(2)\n",
    "graph.shortestPaths(landmarks=[1,2]).show()\n",
    "\n",
    "# you can also store the results\n",
    "# results = graph.shortestPaths(landmarks=[1,2])\n",
    "# results.show()"
   ]
  },
  {
   "cell_type": "code",
   "execution_count": 12,
   "metadata": {
    "collapsed": true
   },
   "outputs": [
    {
     "name": "stdout",
     "output_type": "stream",
     "text": [
      "+---+----------------+--------------+----------------+\n",
      "| id|            name|numconnections|       distances|\n",
      "+---+----------------+--------------+----------------+\n",
      "|  7|         Tim Fox|           500|        [8 -> 1]|\n",
      "|  6|     Tony Piazza|           500|        [8 -> 2]|\n",
      "|  5|   Barry Kaufman|           500|              []|\n",
      "|  1|    Mark Kerzner|          2757|[1 -> 0, 8 -> 2]|\n",
      "|  3|Yaakov Weintraub|           105|        [8 -> 1]|\n",
      "|  8|    Vamsi Sistla|          1000|        [8 -> 0]|\n",
      "|  2|   Sujee Maniyam|           891|        [8 -> 3]|\n",
      "|  4|Packt Publishing|          2984|              []|\n",
      "+---+----------------+--------------+----------------+\n",
      "\n"
     ]
    }
   ],
   "source": [
    "# from Mark(1) to Vamsi(8)\n",
    "graph.shortestPaths(landmarks=[1,8]).show()"
   ]
  },
  {
   "cell_type": "code",
   "execution_count": 13,
   "metadata": {
    "collapsed": true
   },
   "outputs": [
    {
     "name": "stdout",
     "output_type": "stream",
     "text": [
      "+---+----------------+--------------+----------------------------------------------------------------+\n",
      "|id |name            |numconnections|distances                                                       |\n",
      "+---+----------------+--------------+----------------------------------------------------------------+\n",
      "|7  |Tim Fox         |500           |[7 -> 0, 8 -> 1]                                                |\n",
      "|6  |Tony Piazza     |500           |[6 -> 0, 7 -> 1, 8 -> 2]                                        |\n",
      "|5  |Barry Kaufman   |500           |[5 -> 0]                                                        |\n",
      "|1  |Mark Kerzner    |2757          |[5 -> 1, 1 -> 0, 6 -> 2, 2 -> 1, 7 -> 2, 3 -> 1, 8 -> 2, 4 -> 1]|\n",
      "|3  |Yaakov Weintraub|105           |[3 -> 0, 7 -> 1, 8 -> 1]                                        |\n",
      "|8  |Vamsi Sistla    |1000          |[8 -> 0]                                                        |\n",
      "|2  |Sujee Maniyam   |891           |[2 -> 0, 6 -> 1, 7 -> 2, 8 -> 3]                                |\n",
      "|4  |Packt Publishing|2984          |[4 -> 0]                                                        |\n",
      "+---+----------------+--------------+----------------------------------------------------------------+\n",
      "\n"
     ]
    }
   ],
   "source": [
    "# from Mark(1) to Everyone\n",
    "graph.shortestPaths(landmarks=range(1,9)).show(truncate=False)"
   ]
  },
  {
   "cell_type": "markdown",
   "metadata": {},
   "source": [
    "Explain the results\n",
    "    \n",
    "## Bonus Lab 1\n",
    "Construct a small graph of air flights between cities. Use 4-6 cities. Put the prices of flying between two cities into the edges above, replacing the number \"1\" with the actual price.\n",
    "\n",
    "Calculate the cheapest flights between cities."
   ]
  },
  {
   "cell_type": "code",
   "execution_count": null,
   "metadata": {},
   "outputs": [],
   "source": []
  }
 ],
 "metadata": {
  "kernelspec": {
   "display_name": "Python 3",
   "language": "python",
   "name": "python3"
  },
  "language_info": {
   "codemirror_mode": {
    "name": "ipython",
    "version": 3
   },
   "file_extension": ".py",
   "mimetype": "text/x-python",
   "name": "python",
   "nbconvert_exporter": "python",
   "pygments_lexer": "ipython3",
   "version": "3.6.8"
  }
 },
 "nbformat": 4,
 "nbformat_minor": 2
}
