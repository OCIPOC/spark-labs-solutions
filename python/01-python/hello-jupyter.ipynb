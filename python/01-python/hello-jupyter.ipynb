{
 "cells": [
  {
   "cell_type": "markdown",
   "metadata": {},
   "source": [
    "# Hello Jupyter\n",
    "\n",
    "### Goal\n",
    "Get familiar with Jupyter Notebook\n",
    "\n",
    "<img src=\"../assets/images/jupyter.png\"/>"
   ]
  },
  {
   "cell_type": "code",
   "execution_count": null,
   "metadata": {},
   "outputs": [],
   "source": []
  },
  {
   "cell_type": "markdown",
   "metadata": {},
   "source": [
    "## 1: Create a code cell\n",
    "Click on the '+' button on the tool bar above.  \n",
    "It will create a new cell below here.  \n",
    "Type the following code into the cell. \n",
    "\n",
    "```python\n",
    "    print(\"Hello world\")\n",
    "```\n",
    "\n",
    "And click on 'Run' button to execute.  "
   ]
  },
  {
   "cell_type": "code",
   "execution_count": 35,
   "metadata": {},
   "outputs": [
    {
     "name": "stdout",
     "output_type": "stream",
     "text": [
      "Hello world\n"
     ]
    }
   ],
   "source": [
    "print(\"Hello world\")"
   ]
  },
  {
   "cell_type": "markdown",
   "metadata": {},
   "source": [
    "## 2: Multiple Code Cells\n",
    "Go ahead and create mutiple code cells below.  \n",
    "And add the code below in each cell.\n",
    "\n",
    "cell 1\n",
    "```python\n",
    "    print(1)\n",
    "```\n",
    "\n",
    "cell 2\n",
    "```python\n",
    "    print(2)\n",
    "```\n",
    "\n",
    "cell 3\n",
    "```python\n",
    "    print(3)\n",
    "```\n",
    "\n"
   ]
  },
  {
   "cell_type": "code",
   "execution_count": 36,
   "metadata": {},
   "outputs": [
    {
     "name": "stdout",
     "output_type": "stream",
     "text": [
      "2\n"
     ]
    }
   ],
   "source": [
    "# code cell\n",
    "print(2)"
   ]
  },
  {
   "cell_type": "code",
   "execution_count": 37,
   "metadata": {},
   "outputs": [
    {
     "name": "stdout",
     "output_type": "stream",
     "text": [
      "3\n"
     ]
    }
   ],
   "source": [
    "# code cell\n",
    "print(3)"
   ]
  },
  {
   "cell_type": "code",
   "execution_count": 38,
   "metadata": {},
   "outputs": [
    {
     "name": "stdout",
     "output_type": "stream",
     "text": [
      "1\n"
     ]
    }
   ],
   "source": [
    "# code cell\n",
    "print(1)"
   ]
  },
  {
   "cell_type": "markdown",
   "metadata": {},
   "source": [
    "**Re-order** code cells, so it prints   \n",
    "2  \n",
    "3  \n",
    "1  \n",
    "Hint : Use 'up' / 'down' buttons in toolbar"
   ]
  },
  {
   "cell_type": "markdown",
   "metadata": {},
   "source": [
    "## 3: Tab Completion\n",
    "Tab completion is a wonderful feature"
   ]
  },
  {
   "cell_type": "code",
   "execution_count": 39,
   "metadata": {},
   "outputs": [],
   "source": [
    "a = \"Hello World\""
   ]
  },
  {
   "cell_type": "code",
   "execution_count": 40,
   "metadata": {},
   "outputs": [
    {
     "data": {
      "text/plain": [
       "'hello world'"
      ]
     },
     "execution_count": 40,
     "metadata": {},
     "output_type": "execute_result"
    }
   ],
   "source": [
    "# Execute the above cell \n",
    "# now let's find all the methods in A\n",
    "# a.[TAB]\n",
    "    \n",
    "## find the  method to lowercase the string and print it\n",
    "a.lower()"
   ]
  },
  {
   "cell_type": "markdown",
   "metadata": {},
   "source": [
    "**Use Shift Tab to find the variable type**"
   ]
  },
  {
   "cell_type": "code",
   "execution_count": 41,
   "metadata": {},
   "outputs": [],
   "source": [
    "# a[SHIFT][TAB]\n",
    "\n",
    "## It shows the following:\n",
    "# Type:        str\n",
    "# String form: Hello world\n",
    "# Length:      11\n",
    "# Docstring:  \n",
    "# str(object='') -> str\n",
    "# str(bytes_or_buffer[, encoding[, errors]]) -> str\n",
    "\n",
    "# Create a new string object from the given object. If encoding or\n",
    "# errors is specified, then the object must expose a data buffer\n",
    "# that will be decoded using the given encoding and error handler.\n",
    "# Otherwise, returns the result of object.__str__() (if defined)\n",
    "# or repr(object).\n",
    "# encoding defaults to sys.getdefaultencoding().\n",
    "# errors defaults to 'strict'."
   ]
  },
  {
   "cell_type": "markdown",
   "metadata": {},
   "source": [
    "## 4 - Getting Help\n",
    "Use '?' to get help"
   ]
  },
  {
   "cell_type": "code",
   "execution_count": 42,
   "metadata": {},
   "outputs": [
    {
     "data": {
      "text/plain": [
       "\u001b[0;31mType:\u001b[0m        str\n",
       "\u001b[0;31mString form:\u001b[0m Hello world\n",
       "\u001b[0;31mLength:\u001b[0m      11\n",
       "\u001b[0;31mDocstring:\u001b[0m  \n",
       "str(object='') -> str\n",
       "str(bytes_or_buffer[, encoding[, errors]]) -> str\n",
       "\n",
       "Create a new string object from the given object. If encoding or\n",
       "errors is specified, then the object must expose a data buffer\n",
       "that will be decoded using the given encoding and error handler.\n",
       "Otherwise, returns the result of object.__str__() (if defined)\n",
       "or repr(object).\n",
       "encoding defaults to sys.getdefaultencoding().\n",
       "errors defaults to 'strict'.\n"
      ]
     },
     "metadata": {},
     "output_type": "display_data"
    }
   ],
   "source": [
    "a = \"Hello world\"\n",
    "a?"
   ]
  },
  {
   "cell_type": "code",
   "execution_count": 43,
   "metadata": {},
   "outputs": [
    {
     "data": {
      "text/plain": [
       "a.__add__\n",
       "a.__class__\n",
       "a.__contains__\n",
       "a.__delattr__\n",
       "a.__dir__\n",
       "a.__doc__\n",
       "a.__eq__\n",
       "a.__format__\n",
       "a.__ge__\n",
       "a.__getattribute__\n",
       "a.__getitem__\n",
       "a.__getnewargs__\n",
       "a.__gt__\n",
       "a.__hash__\n",
       "a.__init__\n",
       "a.__init_subclass__\n",
       "a.__iter__\n",
       "a.__le__\n",
       "a.__len__\n",
       "a.__lt__\n",
       "a.__mod__\n",
       "a.__mul__\n",
       "a.__ne__\n",
       "a.__new__\n",
       "a.__reduce__\n",
       "a.__reduce_ex__\n",
       "a.__repr__\n",
       "a.__rmod__\n",
       "a.__rmul__\n",
       "a.__setattr__\n",
       "a.__sizeof__\n",
       "a.__str__\n",
       "a.__subclasshook__\n",
       "a.capitalize\n",
       "a.casefold\n",
       "a.center\n",
       "a.count\n",
       "a.encode\n",
       "a.endswith\n",
       "a.expandtabs\n",
       "a.find\n",
       "a.format\n",
       "a.format_map\n",
       "a.index\n",
       "a.isalnum\n",
       "a.isalpha\n",
       "a.isdecimal\n",
       "a.isdigit\n",
       "a.isidentifier\n",
       "a.islower\n",
       "a.isnumeric\n",
       "a.isprintable\n",
       "a.isspace\n",
       "a.istitle\n",
       "a.isupper\n",
       "a.join\n",
       "a.ljust\n",
       "a.lower\n",
       "a.lstrip\n",
       "a.maketrans\n",
       "a.partition\n",
       "a.replace\n",
       "a.rfind\n",
       "a.rindex\n",
       "a.rjust\n",
       "a.rpartition\n",
       "a.rsplit\n",
       "a.rstrip\n",
       "a.split\n",
       "a.splitlines\n",
       "a.startswith\n",
       "a.strip\n",
       "a.swapcase\n",
       "a.title\n",
       "a.translate\n",
       "a.upper\n",
       "a.zfill"
      ]
     },
     "metadata": {},
     "output_type": "display_data"
    }
   ],
   "source": [
    "# To find all functions\n",
    "a.*?"
   ]
  },
  {
   "cell_type": "code",
   "execution_count": 44,
   "metadata": {},
   "outputs": [
    {
     "data": {
      "text/plain": [
       "a.ljust\n",
       "a.lower\n",
       "a.lstrip"
      ]
     },
     "metadata": {},
     "output_type": "display_data"
    }
   ],
   "source": [
    "# to find functions starting with 'l'\n",
    "a.l*?"
   ]
  },
  {
   "cell_type": "code",
   "execution_count": 45,
   "metadata": {},
   "outputs": [
    {
     "data": {
      "text/plain": [
       "\u001b[0;31mDocstring:\u001b[0m\n",
       "S.lstrip([chars]) -> str\n",
       "\n",
       "Return a copy of the string S with leading whitespace removed.\n",
       "If chars is given and not None, remove characters in chars instead.\n",
       "\u001b[0;31mType:\u001b[0m      builtin_function_or_method\n"
      ]
     },
     "metadata": {},
     "output_type": "display_data"
    }
   ],
   "source": [
    "# To get more info on a function\n",
    "a.lstrip?"
   ]
  },
  {
   "cell_type": "markdown",
   "metadata": {},
   "source": [
    "## 5 - Profile: Measure time taken\n",
    "Use **%%time** construct"
   ]
  },
  {
   "cell_type": "code",
   "execution_count": 46,
   "metadata": {},
   "outputs": [
    {
     "name": "stdout",
     "output_type": "stream",
     "text": [
      "CPU times: user 396 ms, sys: 0 ns, total: 396 ms\n",
      "Wall time: 393 ms\n"
     ]
    }
   ],
   "source": [
    "%%time\n",
    "\n",
    "for i in range(1,10000000):\n",
    "    pass\n"
   ]
  },
  {
   "cell_type": "markdown",
   "metadata": {},
   "source": [
    "## 6 - Execute All Cells\n",
    "Click on **'Cell --> Execute All'**  to run all code cells"
   ]
  },
  {
   "cell_type": "markdown",
   "metadata": {},
   "source": [
    "## 7 - Restart the Kernel\n",
    "If your kernel is not initialized properly, or you want a clean run of your notebook   \n",
    "Go to **'Kernel --> Restart'**"
   ]
  },
  {
   "cell_type": "markdown",
   "metadata": {},
   "source": [
    "## 8 - Download Jupyter Notebook\n",
    "Go to 'File --> Download As'  and try to download the notebook in the following formats\n",
    "- Jupyter Notebook\n",
    "- Python\n",
    "- HTML\n",
    "- Markdown\n",
    "- PDF"
   ]
  },
  {
   "cell_type": "markdown",
   "metadata": {},
   "source": [
    "## 9 - Clean Halt the Notebook\n",
    "Go to **'File --> Close and Halt'**"
   ]
  },
  {
   "cell_type": "code",
   "execution_count": null,
   "metadata": {},
   "outputs": [],
   "source": []
  },
  {
   "cell_type": "code",
   "execution_count": null,
   "metadata": {},
   "outputs": [],
   "source": []
  }
 ],
 "metadata": {
  "kernelspec": {
   "display_name": "Python 3",
   "language": "python",
   "name": "python3"
  },
  "language_info": {
   "codemirror_mode": {
    "name": "ipython",
    "version": 3
   },
   "file_extension": ".py",
   "mimetype": "text/x-python",
   "name": "python",
   "nbconvert_exporter": "python",
   "pygments_lexer": "ipython3",
   "version": "3.6.8"
  }
 },
 "nbformat": 4,
 "nbformat_minor": 2
}
