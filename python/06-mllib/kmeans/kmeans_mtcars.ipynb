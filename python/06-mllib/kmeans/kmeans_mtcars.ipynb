{
 "cells": [
  {
   "cell_type": "markdown",
   "metadata": {},
   "source": [
    "# Spark MLLib Example: Clustering\n",
    "\n",
    "### Download the [spreadsheet](WSSSE-versus-k.xlsx)\n",
    "\n",
    "Let's look at a clustering example in Spark MLLib.\n",
    "\n",
    "Here, we are going to load the mtcars dataset. This has some stats on different models of cars.  Here, we will load the CSV file as a spark dataframe, and view it.\n",
    "\n",
    "This dataset contains some statistics on 1974 Cars from Motor Trends\n",
    "\n",
    "Here are the columns:\n",
    "* name   - name of the car\n",
    "*  mpg   - Miles/(US) gallon                        \n",
    "*  cyl   - Number of cylinders                      \n",
    "*  disp  - Displacement (cu.in.)                    \n",
    "*  hp    - Gross horsepower                         \n",
    "*  drat  - Rear axle ratio            \n",
    "\n",
    "Are there any natural clusters you can identify from this data?\n",
    "\n",
    "We are going to use **MPG and CYL** attributes to cluster.\n",
    "\n",
    "You can also download and view the raw data in Excel : [cars.csv](/data/cars/mtcars_header.csv)\n",
    "\n",
    "<img src=\"../../assets/images/6.1-cars2.png\" style=\"border: 5px solid grey; max-width:100%;\" />"
   ]
  },
  {
   "cell_type": "code",
   "execution_count": 6,
   "metadata": {},
   "outputs": [
    {
     "name": "stdout",
     "output_type": "stream",
     "text": [
      "Initializing Spark...\n",
      "Spark found in :  /home/ubuntu/spark\n",
      "Spark config:\n",
      "\t executor.memory=2g\n",
      "\tsome_property=some_value\n",
      "\tspark.app.name=TestApp\n",
      "\tspark.master=local[*]\n",
      "\tspark.sql.warehouse.dir=/tmp/tmp1qw664_n\n",
      "\tspark.submit.deployMode=client\n",
      "\tspark.ui.showConsoleProgress=true\n",
      "Spark UI running on port 4045\n"
     ]
    }
   ],
   "source": [
    "# initialize Spark Session\n",
    "import os\n",
    "import sys\n",
    "top_dir = os.path.abspath(os.path.join(os.getcwd(), \"../../\"))\n",
    "if top_dir not in sys.path:\n",
    "    sys.path.append(top_dir)\n",
    "\n",
    "from init_spark import init_spark\n",
    "spark = init_spark()\n",
    "sc = spark.sparkContext"
   ]
  },
  {
   "cell_type": "markdown",
   "metadata": {},
   "source": [
    "## Step 1 : Load Data"
   ]
  },
  {
   "cell_type": "code",
   "execution_count": 7,
   "metadata": {},
   "outputs": [],
   "source": [
    "## Imports\n",
    "from pyspark.ml.feature import VectorAssembler\n",
    "from pyspark.ml.clustering import KMeans"
   ]
  },
  {
   "cell_type": "code",
   "execution_count": 8,
   "metadata": {},
   "outputs": [],
   "source": [
    "dataset = spark.read.csv(\"/data/cars/mtcars_header.csv\", header=True, inferSchema=True)"
   ]
  },
  {
   "cell_type": "code",
   "execution_count": 9,
   "metadata": {},
   "outputs": [
    {
     "name": "stdout",
     "output_type": "stream",
     "text": [
      "root\n",
      " |-- model: string (nullable = true)\n",
      " |-- mpg: double (nullable = true)\n",
      " |-- cyl: integer (nullable = true)\n",
      " |-- disp: double (nullable = true)\n",
      " |-- hp: integer (nullable = true)\n",
      " |-- drat: double (nullable = true)\n",
      " |-- wt: double (nullable = true)\n",
      " |-- qsec: double (nullable = true)\n",
      " |-- vs: integer (nullable = true)\n",
      " |-- am: integer (nullable = true)\n",
      " |-- gear: integer (nullable = true)\n",
      " |-- carb: integer (nullable = true)\n",
      "\n"
     ]
    }
   ],
   "source": [
    "## TODO : print schema\n",
    "## Hint : printSchema()\n",
    "dataset.printSchema()"
   ]
  },
  {
   "cell_type": "code",
   "execution_count": 10,
   "metadata": {
    "scrolled": true
   },
   "outputs": [
    {
     "name": "stdout",
     "output_type": "stream",
     "text": [
      "+-------------------+----+---+-----+---+----+-----+-----+---+---+----+----+\n",
      "|              model| mpg|cyl| disp| hp|drat|   wt| qsec| vs| am|gear|carb|\n",
      "+-------------------+----+---+-----+---+----+-----+-----+---+---+----+----+\n",
      "|          Mazda RX4|21.0|  6|160.0|110| 3.9| 2.62|16.46|  0|  1|   4|   4|\n",
      "|      Mazda RX4 Wag|21.0|  6|160.0|110| 3.9|2.875|17.02|  0|  1|   4|   4|\n",
      "|         Datsun 710|22.8|  4|108.0| 93|3.85| 2.32|18.61|  1|  1|   4|   1|\n",
      "|     Hornet 4 Drive|21.4|  6|258.0|110|3.08|3.215|19.44|  1|  0|   3|   1|\n",
      "|  Hornet Sportabout|18.7|  8|360.0|175|3.15| 3.44|17.02|  0|  0|   3|   2|\n",
      "|            Valiant|18.1|  6|225.0|105|2.76| 3.46|20.22|  1|  0|   3|   1|\n",
      "|         Duster 360|14.3|  8|360.0|245|3.21| 3.57|15.84|  0|  0|   3|   4|\n",
      "|          Merc 240D|24.4|  4|146.7| 62|3.69| 3.19| 20.0|  1|  0|   4|   2|\n",
      "|           Merc 230|22.8|  4|140.8| 95|3.92| 3.15| 22.9|  1|  0|   4|   2|\n",
      "|           Merc 280|19.2|  6|167.6|123|3.92| 3.44| 18.3|  1|  0|   4|   4|\n",
      "|          Merc 280C|17.8|  6|167.6|123|3.92| 3.44| 18.9|  1|  0|   4|   4|\n",
      "|         Merc 450SE|16.4|  8|275.8|180|3.07| 4.07| 17.4|  0|  0|   3|   3|\n",
      "|         Merc 450SL|17.3|  8|275.8|180|3.07| 3.73| 17.6|  0|  0|   3|   3|\n",
      "|        Merc 450SLC|15.2|  8|275.8|180|3.07| 3.78| 18.0|  0|  0|   3|   3|\n",
      "| Cadillac Fleetwood|10.4|  8|472.0|205|2.93| 5.25|17.98|  0|  0|   3|   4|\n",
      "|Lincoln Continental|10.4|  8|460.0|215| 3.0|5.424|17.82|  0|  0|   3|   4|\n",
      "|  Chrysler Imperial|14.7|  8|440.0|230|3.23|5.345|17.42|  0|  0|   3|   4|\n",
      "|           Fiat 128|32.4|  4| 78.7| 66|4.08|  2.2|19.47|  1|  1|   4|   1|\n",
      "|        Honda Civic|30.4|  4| 75.7| 52|4.93|1.615|18.52|  1|  1|   4|   2|\n",
      "|     Toyota Corolla|33.9|  4| 71.1| 65|4.22|1.835| 19.9|  1|  1|   4|   1|\n",
      "+-------------------+----+---+-----+---+----+-----+-----+---+---+----+----+\n",
      "only showing top 20 rows\n",
      "\n"
     ]
    }
   ],
   "source": [
    "## TODO : display the data\n",
    "## Hint : show\n",
    "dataset.show()"
   ]
  },
  {
   "cell_type": "markdown",
   "metadata": {},
   "source": [
    "## Step 2 : Extract data\n",
    "We only care about 'model', 'mpg' and 'cyl' columns"
   ]
  },
  {
   "cell_type": "code",
   "execution_count": 11,
   "metadata": {},
   "outputs": [
    {
     "name": "stdout",
     "output_type": "stream",
     "text": [
      "+-------------------+----+---+\n",
      "|              model| mpg|cyl|\n",
      "+-------------------+----+---+\n",
      "|          Mazda RX4|21.0|  6|\n",
      "|      Mazda RX4 Wag|21.0|  6|\n",
      "|         Datsun 710|22.8|  4|\n",
      "|     Hornet 4 Drive|21.4|  6|\n",
      "|  Hornet Sportabout|18.7|  8|\n",
      "|            Valiant|18.1|  6|\n",
      "|         Duster 360|14.3|  8|\n",
      "|          Merc 240D|24.4|  4|\n",
      "|           Merc 230|22.8|  4|\n",
      "|           Merc 280|19.2|  6|\n",
      "|          Merc 280C|17.8|  6|\n",
      "|         Merc 450SE|16.4|  8|\n",
      "|         Merc 450SL|17.3|  8|\n",
      "|        Merc 450SLC|15.2|  8|\n",
      "| Cadillac Fleetwood|10.4|  8|\n",
      "|Lincoln Continental|10.4|  8|\n",
      "|  Chrysler Imperial|14.7|  8|\n",
      "|           Fiat 128|32.4|  4|\n",
      "|        Honda Civic|30.4|  4|\n",
      "|     Toyota Corolla|33.9|  4|\n",
      "+-------------------+----+---+\n",
      "only showing top 20 rows\n",
      "\n"
     ]
    }
   ],
   "source": [
    "## TODO : extract the columns we need : model, mpg and cyl\n",
    "dataset2 = dataset.select([\"model\", \"mpg\", \"cyl\"])\n",
    "dataset2.show()"
   ]
  },
  {
   "cell_type": "markdown",
   "metadata": {},
   "source": [
    "## Step 3 : Creating Vectors\n",
    "\n",
    "Now that we have ourselves a dataframe, let's work on turning it into vectors.  We're going to vectorize 2 columns:\n",
    "\n",
    "1. MPG\n",
    "2. Number of cylinders.\n",
    "\n",
    "What we'll do, is we'll use the VectorAssembler class to create a new column by the name of features. This will be a Vector."
   ]
  },
  {
   "cell_type": "code",
   "execution_count": 12,
   "metadata": {},
   "outputs": [
    {
     "name": "stdout",
     "output_type": "stream",
     "text": [
      "+-------------------+----+---+----------+\n",
      "|              model| mpg|cyl|  features|\n",
      "+-------------------+----+---+----------+\n",
      "|          Mazda RX4|21.0|  6|[21.0,6.0]|\n",
      "|      Mazda RX4 Wag|21.0|  6|[21.0,6.0]|\n",
      "|         Datsun 710|22.8|  4|[22.8,4.0]|\n",
      "|     Hornet 4 Drive|21.4|  6|[21.4,6.0]|\n",
      "|  Hornet Sportabout|18.7|  8|[18.7,8.0]|\n",
      "|            Valiant|18.1|  6|[18.1,6.0]|\n",
      "|         Duster 360|14.3|  8|[14.3,8.0]|\n",
      "|          Merc 240D|24.4|  4|[24.4,4.0]|\n",
      "|           Merc 230|22.8|  4|[22.8,4.0]|\n",
      "|           Merc 280|19.2|  6|[19.2,6.0]|\n",
      "|          Merc 280C|17.8|  6|[17.8,6.0]|\n",
      "|         Merc 450SE|16.4|  8|[16.4,8.0]|\n",
      "|         Merc 450SL|17.3|  8|[17.3,8.0]|\n",
      "|        Merc 450SLC|15.2|  8|[15.2,8.0]|\n",
      "| Cadillac Fleetwood|10.4|  8|[10.4,8.0]|\n",
      "|Lincoln Continental|10.4|  8|[10.4,8.0]|\n",
      "|  Chrysler Imperial|14.7|  8|[14.7,8.0]|\n",
      "|           Fiat 128|32.4|  4|[32.4,4.0]|\n",
      "|        Honda Civic|30.4|  4|[30.4,4.0]|\n",
      "|     Toyota Corolla|33.9|  4|[33.9,4.0]|\n",
      "+-------------------+----+---+----------+\n",
      "only showing top 20 rows\n",
      "\n"
     ]
    }
   ],
   "source": [
    "## TODO : create featureVector with 'mpg' and 'cyl'\n",
    "## Hint :  inputCols=['mpg', 'cyl']\n",
    "assembler = VectorAssembler(inputCols=[\"mpg\", \"cyl\"], outputCol=\"features\")\n",
    "featureVector = assembler.transform(dataset2)\n",
    "featureVector.show()"
   ]
  },
  {
   "cell_type": "markdown",
   "metadata": {},
   "source": [
    "## Step 4 : Running Kmeans\n",
    "\n",
    "Now it's time to run kmeans on the resultant dataframe. We don't know what value of k to use, so let's just start with k=2.  This means we will cluster into two groups.\n",
    "\n",
    "We will fit a model to the data, and then train it."
   ]
  },
  {
   "cell_type": "code",
   "execution_count": 13,
   "metadata": {},
   "outputs": [
    {
     "name": "stdout",
     "output_type": "stream",
     "text": [
      "425.39658730158885\n"
     ]
    }
   ],
   "source": [
    "k = 2\n",
    "kmeans = KMeans().setK(k).setMaxIter(10)\n",
    "model = kmeans.fit(featureVector)\n",
    "wssse = model.computeCost(featureVector)\n",
    "\n",
    "print(wssse)"
   ]
  },
  {
   "cell_type": "markdown",
   "metadata": {},
   "source": [
    "The WSSSE for this is not particularly good.  We will probably need to change k.\n",
    "\n"
   ]
  },
  {
   "cell_type": "markdown",
   "metadata": {},
   "source": [
    "## Step 5 : Display grouping\n",
    "Let's take a look at the transformed dataset.  Notice the new column \"prediction.\""
   ]
  },
  {
   "cell_type": "code",
   "execution_count": 14,
   "metadata": {
    "scrolled": true
   },
   "outputs": [
    {
     "name": "stdout",
     "output_type": "stream",
     "text": [
      "+-------------------+----+---+----------+----------+\n",
      "|              model| mpg|cyl|  features|prediction|\n",
      "+-------------------+----+---+----------+----------+\n",
      "|          Mazda RX4|21.0|  6|[21.0,6.0]|         0|\n",
      "|      Mazda RX4 Wag|21.0|  6|[21.0,6.0]|         0|\n",
      "|     Hornet 4 Drive|21.4|  6|[21.4,6.0]|         0|\n",
      "|         Volvo 142E|21.4|  4|[21.4,4.0]|         0|\n",
      "|      Toyota Corona|21.5|  4|[21.5,4.0]|         0|\n",
      "|         Datsun 710|22.8|  4|[22.8,4.0]|         0|\n",
      "|           Merc 230|22.8|  4|[22.8,4.0]|         0|\n",
      "|          Merc 240D|24.4|  4|[24.4,4.0]|         0|\n",
      "|      Porsche 914-2|26.0|  4|[26.0,4.0]|         0|\n",
      "|          Fiat X1-9|27.3|  4|[27.3,4.0]|         0|\n",
      "|       Lotus Europa|30.4|  4|[30.4,4.0]|         0|\n",
      "|        Honda Civic|30.4|  4|[30.4,4.0]|         0|\n",
      "|           Fiat 128|32.4|  4|[32.4,4.0]|         0|\n",
      "|     Toyota Corolla|33.9|  4|[33.9,4.0]|         0|\n",
      "| Cadillac Fleetwood|10.4|  8|[10.4,8.0]|         1|\n",
      "|Lincoln Continental|10.4|  8|[10.4,8.0]|         1|\n",
      "|         Camaro Z28|13.3|  8|[13.3,8.0]|         1|\n",
      "|         Duster 360|14.3|  8|[14.3,8.0]|         1|\n",
      "|  Chrysler Imperial|14.7|  8|[14.7,8.0]|         1|\n",
      "|      Maserati Bora|15.0|  8|[15.0,8.0]|         1|\n",
      "|        Merc 450SLC|15.2|  8|[15.2,8.0]|         1|\n",
      "|        AMC Javelin|15.2|  8|[15.2,8.0]|         1|\n",
      "|   Dodge Challenger|15.5|  8|[15.5,8.0]|         1|\n",
      "|     Ford Pantera L|15.8|  8|[15.8,8.0]|         1|\n",
      "|         Merc 450SE|16.4|  8|[16.4,8.0]|         1|\n",
      "|         Merc 450SL|17.3|  8|[17.3,8.0]|         1|\n",
      "|          Merc 280C|17.8|  6|[17.8,6.0]|         1|\n",
      "|            Valiant|18.1|  6|[18.1,6.0]|         1|\n",
      "|  Hornet Sportabout|18.7|  8|[18.7,8.0]|         1|\n",
      "|           Merc 280|19.2|  6|[19.2,6.0]|         1|\n",
      "|   Pontiac Firebird|19.2|  8|[19.2,8.0]|         1|\n",
      "|       Ferrari Dino|19.7|  6|[19.7,6.0]|         1|\n",
      "+-------------------+----+---+----------+----------+\n",
      "\n"
     ]
    }
   ],
   "source": [
    "predicted = model.transform(featureVector)\n",
    "predicted.orderBy(['prediction', 'mpg']).show(32)"
   ]
  },
  {
   "cell_type": "markdown",
   "metadata": {},
   "source": [
    "Notice what we have here.  We have two clusters. One is smaller, fuel efficient cars like the Fiat and the Corolla (remember, we cluster on two variables only: mpg and cyl).  The other is for basically all other cars.  Probably, we can get better results here with a differnet value of k."
   ]
  },
  {
   "cell_type": "markdown",
   "metadata": {},
   "source": [
    "## Step 6 : Adjust K"
   ]
  },
  {
   "cell_type": "code",
   "execution_count": 15,
   "metadata": {},
   "outputs": [
    {
     "name": "stdout",
     "output_type": "stream",
     "text": [
      "WSSSE: 169.40535714285784\n"
     ]
    }
   ],
   "source": [
    "k = 3\n",
    "kmeans = KMeans().setK(k).setMaxIter(10)\n",
    "model = kmeans.fit(featureVector)\n",
    "wssse = model.computeCost(featureVector)\n",
    "\n",
    "print('WSSSE: ' + str(wssse))"
   ]
  },
  {
   "cell_type": "markdown",
   "metadata": {},
   "source": [
    "This is a much better result for WSSSE (lower is better)."
   ]
  },
  {
   "cell_type": "code",
   "execution_count": 16,
   "metadata": {},
   "outputs": [
    {
     "name": "stdout",
     "output_type": "stream",
     "text": [
      "+-------------------+----+---+----------+----------+\n",
      "|              model| mpg|cyl|  features|prediction|\n",
      "+-------------------+----+---+----------+----------+\n",
      "|          Merc 280C|17.8|  6|[17.8,6.0]|         0|\n",
      "|            Valiant|18.1|  6|[18.1,6.0]|         0|\n",
      "|  Hornet Sportabout|18.7|  8|[18.7,8.0]|         0|\n",
      "|   Pontiac Firebird|19.2|  8|[19.2,8.0]|         0|\n",
      "|           Merc 280|19.2|  6|[19.2,6.0]|         0|\n",
      "|       Ferrari Dino|19.7|  6|[19.7,6.0]|         0|\n",
      "|      Mazda RX4 Wag|21.0|  6|[21.0,6.0]|         0|\n",
      "|          Mazda RX4|21.0|  6|[21.0,6.0]|         0|\n",
      "|     Hornet 4 Drive|21.4|  6|[21.4,6.0]|         0|\n",
      "|         Volvo 142E|21.4|  4|[21.4,4.0]|         0|\n",
      "|      Toyota Corona|21.5|  4|[21.5,4.0]|         0|\n",
      "|         Datsun 710|22.8|  4|[22.8,4.0]|         0|\n",
      "|           Merc 230|22.8|  4|[22.8,4.0]|         0|\n",
      "|          Merc 240D|24.4|  4|[24.4,4.0]|         0|\n",
      "|      Porsche 914-2|26.0|  4|[26.0,4.0]|         1|\n",
      "|          Fiat X1-9|27.3|  4|[27.3,4.0]|         1|\n",
      "|       Lotus Europa|30.4|  4|[30.4,4.0]|         1|\n",
      "|        Honda Civic|30.4|  4|[30.4,4.0]|         1|\n",
      "|           Fiat 128|32.4|  4|[32.4,4.0]|         1|\n",
      "|     Toyota Corolla|33.9|  4|[33.9,4.0]|         1|\n",
      "| Cadillac Fleetwood|10.4|  8|[10.4,8.0]|         2|\n",
      "|Lincoln Continental|10.4|  8|[10.4,8.0]|         2|\n",
      "|         Camaro Z28|13.3|  8|[13.3,8.0]|         2|\n",
      "|         Duster 360|14.3|  8|[14.3,8.0]|         2|\n",
      "|  Chrysler Imperial|14.7|  8|[14.7,8.0]|         2|\n",
      "|      Maserati Bora|15.0|  8|[15.0,8.0]|         2|\n",
      "|        Merc 450SLC|15.2|  8|[15.2,8.0]|         2|\n",
      "|        AMC Javelin|15.2|  8|[15.2,8.0]|         2|\n",
      "|   Dodge Challenger|15.5|  8|[15.5,8.0]|         2|\n",
      "|     Ford Pantera L|15.8|  8|[15.8,8.0]|         2|\n",
      "|         Merc 450SE|16.4|  8|[16.4,8.0]|         2|\n",
      "|         Merc 450SL|17.3|  8|[17.3,8.0]|         2|\n",
      "+-------------------+----+---+----------+----------+\n",
      "\n"
     ]
    }
   ],
   "source": [
    "predicted = model.transform(featureVector)\n",
    "predicted.orderBy(['prediction', 'mpg']).show(32)"
   ]
  },
  {
   "cell_type": "markdown",
   "metadata": {},
   "source": [
    "## Step 7 : Iterate over K\n",
    "We are going to calculate WSSSE for various values of K:"
   ]
  },
  {
   "cell_type": "code",
   "execution_count": 18,
   "metadata": {},
   "outputs": [
    {
     "name": "stdout",
     "output_type": "stream",
     "text": [
      "k 2 wssse 425.39658730158885\n",
      "k 3 wssse 169.40535714285784\n",
      "k 4 wssse 109.71498412698526\n",
      "k 5 wssse 93.13778571428566\n",
      "k 6 wssse 54.20988888888917\n",
      "k 7 wssse 39.88088888888933\n",
      "k 8 wssse 32.65122222222237\n",
      "k 9 wssse 19.45088888888938\n",
      "k 10 wssse 17.200888888888926\n",
      "k 11 wssse 12.396388888888282\n",
      "k 12 wssse 8.817500000000791\n",
      "k 13 wssse 7.51666666666722\n",
      "k 14 wssse 4.795333333332792\n",
      "k 15 wssse 4.670333333332906\n",
      "k 16 wssse 4.545333333332678\n",
      "k 17 wssse 2.144166666666706\n",
      "k 18 wssse 1.019166666666706\n",
      "k 19 wssse 0.6141666666667334\n",
      "k 20 wssse 0.5691666666665469\n",
      "k 21 wssse 0.5216666666671017\n",
      "k 22 wssse 0.34166666666703804\n",
      "k 23 wssse 0.2350000000004684\n",
      "k 24 wssse 0.07666666666648325\n",
      "k 25 wssse 0.050000000000295586\n",
      "k 26 wssse 0.050000000000295586\n",
      "k 27 wssse 0.050000000000295586\n",
      "k 28 wssse 0.050000000000295586\n",
      "k 29 wssse 0.050000000000295586\n",
      "k 30 wssse 0.050000000000295586\n",
      "k 31 wssse 0.050000000000295586\n",
      "k 32 wssse 0.050000000000295586\n"
     ]
    }
   ],
   "source": [
    "for k in range(2,33):\n",
    "    kmeans = KMeans().setK(k).setMaxIter(10)\n",
    "    model = kmeans.fit(featureVector)\n",
    "    wssse = model.computeCost(featureVector)\n",
    "    print (\"k\", k , \"wssse\", wssse)"
   ]
  },
  {
   "cell_type": "code",
   "execution_count": null,
   "metadata": {},
   "outputs": [],
   "source": []
  },
  {
   "cell_type": "code",
   "execution_count": null,
   "metadata": {},
   "outputs": [],
   "source": []
  },
  {
   "cell_type": "code",
   "execution_count": null,
   "metadata": {},
   "outputs": [],
   "source": []
  }
 ],
 "metadata": {
  "anaconda-cloud": {},
  "kernelspec": {
   "display_name": "Python 3",
   "language": "python",
   "name": "python3"
  },
  "language_info": {
   "codemirror_mode": {
    "name": "ipython",
    "version": 3
   },
   "file_extension": ".py",
   "mimetype": "text/x-python",
   "name": "python",
   "nbconvert_exporter": "python",
   "pygments_lexer": "ipython3",
   "version": "3.7.3"
  }
 },
 "nbformat": 4,
 "nbformat_minor": 4
}
