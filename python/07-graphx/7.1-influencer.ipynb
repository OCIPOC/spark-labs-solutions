{
 "cells": [
  {
   "cell_type": "markdown",
   "metadata": {},
   "source": [
    "<link rel='stylesheet' href='../assets/css/main.css'/>\n",
    "\n",
    "[<< back to main index](../../README.md)\n",
    "\n",
    "7.1 : Find Influencers on Twitter\n",
    "================================\n",
    "\n",
    "### Overview\n",
    "Find 'influencers' on Twitter graph\n",
    "\n",
    "### Depends On\n",
    "None\n",
    "\n",
    "### Run time\n",
    "20 mins\n",
    "\n",
    "### Lab Setup\n",
    "\n",
    "This lab uses the GraphFrames spark package.  It is currently NOT part of the default spark framework.\n",
    "\n",
    "We use this for two reasons:\n",
    "\n",
    "1. GraphFrames likely will be the basis of future graph processing in spark.\n",
    "\n",
    "2. RDD-based graphx has no python API, whereas GraphFrames does have a python API. As this jupyter notebook is python that makes it required.\n",
    "\n",
    "So, to run this we have two choices\n",
    "\n",
    "**option 1 : Jupyter**\n",
    "\n",
    "**Note:** \n",
    "Jupyter lab will be already running on the port 8888.\n",
    "So, kill the process first.\n",
    "```bash\n",
    "$ sudo netstat -plnt | grep 8888\n",
    "The process id will be shown in the output.Replace process id in the kill command\n",
    "\n",
    "$ sudo kill -9 process id\n",
    "```\n",
    "\n",
    "```bash\n",
    "$  PYSPARK_PYTHON=python3 PYSPARK_DRIVER_PYTHON=jupyter PYSPARK_DRIVER_PYTHON_OPTS=notebook ~/spark/bin/pyspark --packages graphframes:graphframes:0.7.0-spark2.4-s_2.11\n",
    "```\n",
    "\n",
    "**option 2 : PySpark (command line)**\n",
    "```bash\n",
    "$  PYSPARK_PYTHON=python3  ~/spark/bin/pyspark --packages graphframes:graphframes:0.7.0-spark2.4-s_2.11\n",
    "```\n",
    "\n",
    "Replace the version on graphframes with your latest.\n",
    "\n",
    "With that said, let's start:"
   ]
  },
  {
   "cell_type": "markdown",
   "metadata": {},
   "source": [
    "## Step 1: Build the following twitter graph\n",
    "Here is some real world data:\n",
    "<img src=\"../assets/images/7.1a.png\" style=\"border: 5px solid grey; max-width:100%;\"/>\n",
    "\n",
    "We are using data from a real Twitter account, if you want, you can use yours\n",
    "\n",
    "#### Import the necessary libraries"
   ]
  },
  {
   "cell_type": "code",
   "execution_count": 3,
   "metadata": {
    "attributes": {
     "classes": [
      "scala"
     ],
     "id": ""
    },
    "collapsed": true
   },
   "outputs": [],
   "source": [
    "# %AddDeps graphframes graphframes 0.7.0-spark2.4-s_2.11\n",
    "#%lsmagic"
   ]
  },
  {
   "cell_type": "code",
   "execution_count": 4,
   "metadata": {},
   "outputs": [
    {
     "name": "stdout",
     "output_type": "stream",
     "text": [
      "Initializing Spark...\n",
      "Spark found in :  /home/ubuntu/spark\n",
      "Spark config:\n",
      "\t executor.memory=2g\n",
      "\tsome_property=some_value\n",
      "\tspark.app.name=TestApp\n",
      "\tspark.files=file:///home/ubuntu/.ivy2/jars/graphframes_graphframes-0.7.0-spark2.4-s_2.11.jar,file:///home/ubuntu/.ivy2/jars/org.slf4j_slf4j-api-1.7.16.jar\n",
      "\tspark.jars=file:///home/ubuntu/.ivy2/jars/graphframes_graphframes-0.7.0-spark2.4-s_2.11.jar,file:///home/ubuntu/.ivy2/jars/org.slf4j_slf4j-api-1.7.16.jar\n",
      "\tspark.master=local[*]\n",
      "\tspark.repl.local.jars=file:///home/ubuntu/.ivy2/jars/graphframes_graphframes-0.7.0-spark2.4-s_2.11.jar,file:///home/ubuntu/.ivy2/jars/org.slf4j_slf4j-api-1.7.16.jar\n",
      "\tspark.sql.warehouse.dir=/tmp/tmprusly6b4\n",
      "\tspark.submit.deployMode=client\n",
      "\tspark.submit.pyFiles=/home/ubuntu/.ivy2/jars/graphframes_graphframes-0.7.0-spark2.4-s_2.11.jar,/home/ubuntu/.ivy2/jars/org.slf4j_slf4j-api-1.7.16.jar\n",
      "\tspark.ui.showConsoleProgress=true\n",
      "Spark UI running on port 4047\n"
     ]
    }
   ],
   "source": [
    "# initialize Spark Session\n",
    "import os\n",
    "import sys\n",
    "top_dir = os.path.abspath(os.path.join(os.getcwd(), \"../\"))\n",
    "if top_dir not in sys.path:\n",
    "    sys.path.append(top_dir)\n",
    "\n",
    "from init_spark import init_spark\n",
    "spark = init_spark()\n",
    "sc = spark.sparkContext"
   ]
  },
  {
   "cell_type": "code",
   "execution_count": 5,
   "metadata": {
    "collapsed": true
   },
   "outputs": [],
   "source": [
    "from graphframes import *"
   ]
  },
  {
   "cell_type": "markdown",
   "metadata": {},
   "source": [
    "#### Construct the array of vertices\n",
    "\n",
    " Data structure: twitter handle, number of followers, gender of the tweeter"
   ]
  },
  {
   "cell_type": "code",
   "execution_count": 7,
   "metadata": {
    "attributes": {
     "classes": [
      "scala"
     ],
     "id": ""
    },
    "collapsed": true
   },
   "outputs": [
    {
     "name": "stdout",
     "output_type": "stream",
     "text": [
      "+---+-----------------+---------+------+\n",
      "| id|             Name|followers|gender|\n",
      "+---+-----------------+---------+------+\n",
      "|  1|     @markkerzner|      309|     M|\n",
      "|  2|       @mjbrender|     3101|     M|\n",
      "|  3|     @dridisahar1|       27|     F|\n",
      "|  4|@dez_blanchfield |    38600|     M|\n",
      "|  5|        @ch_doig |      519|     F|\n",
      "|  6|  @Sunitha_Packt |      332|     F|\n",
      "|  7|       @WibiData |     2477|     N|\n",
      "+---+-----------------+---------+------+\n",
      "\n"
     ]
    }
   ],
   "source": [
    "vertices = spark.createDataFrame([\n",
    "        (1, \"@markkerzner\", 309, \"M\"),  # (Id, Name, no of followers, gender)\n",
    "        (2, \"@mjbrender\", 3101, \"M\"),\n",
    "        (3, \"@dridisahar1\", 27, \"F\"),\n",
    "        (4, \"@dez_blanchfield \", 38600, \"M\"),\n",
    "        (5, \"@ch_doig \", 519, \"F\"),\n",
    "        (6, \"@Sunitha_Packt \", 332, \"F\"),\n",
    "        (7, \"@WibiData \", 2477, \"N\")  # Name here is company, so gender is neutral\n",
    "], [\"id\", \"Name\", \"followers\", \"gender\"]) \n",
    "\n",
    "vertices.show()"
   ]
  },
  {
   "cell_type": "markdown",
   "metadata": {},
   "source": [
    "####  Construct the array of edges\n",
    "\n",
    "On this step, these are all my followers, so they connect to me"
   ]
  },
  {
   "cell_type": "code",
   "execution_count": 8,
   "metadata": {
    "attributes": {
     "classes": [
      "scala"
     ],
     "id": ""
    },
    "collapsed": true,
    "scrolled": false
   },
   "outputs": [
    {
     "name": "stdout",
     "output_type": "stream",
     "text": [
      "+---+---+--------+\n",
      "|src|dst|retweets|\n",
      "+---+---+--------+\n",
      "|  1|  2|       7|\n",
      "|  1|  3|       2|\n",
      "|  1|  4|       4|\n",
      "|  1|  5|       3|\n",
      "|  1|  6|       1|\n",
      "|  1|  7|       2|\n",
      "+---+---+--------+\n",
      "\n"
     ]
    }
   ],
   "source": [
    "edges = spark.createDataFrame([\n",
    "        (1, 2, 7), # (src, dest, retweets)\n",
    "        (1, 3, 2),\n",
    "        (1, 4, 4),\n",
    "        (1, 5, 3),\n",
    "        (1, 6, 1),\n",
    "        (1, 7, 2)\n",
    "], [\"src\", \"dst\", \"retweets\"])\n",
    "\n",
    "edges.show()"
   ]
  },
  {
   "cell_type": "markdown",
   "metadata": {},
   "source": [
    "#### Construct the graph from the vertices and edges"
   ]
  },
  {
   "cell_type": "code",
   "execution_count": 9,
   "metadata": {
    "attributes": {
     "classes": [
      "scala"
     ],
     "id": ""
    },
    "collapsed": true
   },
   "outputs": [],
   "source": [
    "graph = GraphFrame(vertices, edges)"
   ]
  },
  {
   "cell_type": "markdown",
   "metadata": {},
   "source": [
    "## Step 2 : Analyzing Graph\n",
    "#### Print graph"
   ]
  },
  {
   "cell_type": "code",
   "execution_count": 10,
   "metadata": {
    "collapsed": true
   },
   "outputs": [
    {
     "name": "stdout",
     "output_type": "stream",
     "text": [
      "+---+-----------------+---------+------+\n",
      "| id|             Name|followers|gender|\n",
      "+---+-----------------+---------+------+\n",
      "|  1|     @markkerzner|      309|     M|\n",
      "|  2|       @mjbrender|     3101|     M|\n",
      "|  3|     @dridisahar1|       27|     F|\n",
      "|  4|@dez_blanchfield |    38600|     M|\n",
      "|  5|        @ch_doig |      519|     F|\n",
      "|  6|  @Sunitha_Packt |      332|     F|\n",
      "|  7|       @WibiData |     2477|     N|\n",
      "+---+-----------------+---------+------+\n",
      "\n"
     ]
    }
   ],
   "source": [
    "# Vertices\n",
    "graph.vertices.show()"
   ]
  },
  {
   "cell_type": "code",
   "execution_count": 11,
   "metadata": {
    "collapsed": true
   },
   "outputs": [
    {
     "name": "stdout",
     "output_type": "stream",
     "text": [
      "+---+---+--------+\n",
      "|src|dst|retweets|\n",
      "+---+---+--------+\n",
      "|  1|  2|       7|\n",
      "|  1|  3|       2|\n",
      "|  1|  4|       4|\n",
      "|  1|  5|       3|\n",
      "|  1|  6|       1|\n",
      "|  1|  7|       2|\n",
      "+---+---+--------+\n",
      "\n"
     ]
    }
   ],
   "source": [
    "# Edges\n",
    "graph.edges.show()"
   ]
  },
  {
   "cell_type": "code",
   "execution_count": 12,
   "metadata": {
    "attributes": {
     "classes": [
      "scala"
     ],
     "id": ""
    },
    "collapsed": true
   },
   "outputs": [
    {
     "name": "stdout",
     "output_type": "stream",
     "text": [
      "+-------------------------+---------+--------------------------------+\n",
      "|src                      |edge     |dst                             |\n",
      "+-------------------------+---------+--------------------------------+\n",
      "|[1, @markkerzner, 309, M]|[1, 7, 2]|[7, @WibiData , 2477, N]        |\n",
      "|[1, @markkerzner, 309, M]|[1, 6, 1]|[6, @Sunitha_Packt , 332, F]    |\n",
      "|[1, @markkerzner, 309, M]|[1, 5, 3]|[5, @ch_doig , 519, F]          |\n",
      "|[1, @markkerzner, 309, M]|[1, 3, 2]|[3, @dridisahar1, 27, F]        |\n",
      "|[1, @markkerzner, 309, M]|[1, 2, 7]|[2, @mjbrender, 3101, M]        |\n",
      "|[1, @markkerzner, 309, M]|[1, 4, 4]|[4, @dez_blanchfield , 38600, M]|\n",
      "+-------------------------+---------+--------------------------------+\n",
      "\n"
     ]
    }
   ],
   "source": [
    "# triplets\n",
    "graph.triplets.show(truncate=False)"
   ]
  },
  {
   "cell_type": "markdown",
   "metadata": {},
   "source": [
    "## Step 3 : Query the graph"
   ]
  },
  {
   "cell_type": "markdown",
   "metadata": {},
   "source": [
    "#### Filter out male followers"
   ]
  },
  {
   "cell_type": "code",
   "execution_count": 13,
   "metadata": {
    "attributes": {
     "classes": [
      "scala"
     ],
     "id": ""
    },
    "collapsed": true
   },
   "outputs": [
    {
     "name": "stdout",
     "output_type": "stream",
     "text": [
      "+---+---------------+---------+------+\n",
      "| id|           Name|followers|gender|\n",
      "+---+---------------+---------+------+\n",
      "|  3|   @dridisahar1|       27|     F|\n",
      "|  5|      @ch_doig |      519|     F|\n",
      "|  6|@Sunitha_Packt |      332|     F|\n",
      "|  7|     @WibiData |     2477|     N|\n",
      "+---+---------------+---------+------+\n",
      "\n"
     ]
    }
   ],
   "source": [
    "graph.vertices.filter(\"gender != 'M'\").show()"
   ]
  },
  {
   "cell_type": "markdown",
   "metadata": {},
   "source": [
    "#### Find my significant followers"
   ]
  },
  {
   "cell_type": "code",
   "execution_count": 14,
   "metadata": {
    "attributes": {
     "classes": [
      "scala"
     ],
     "id": ""
    },
    "collapsed": true
   },
   "outputs": [
    {
     "name": "stdout",
     "output_type": "stream",
     "text": [
      "+---+-----------------+---------+------+\n",
      "| id|             Name|followers|gender|\n",
      "+---+-----------------+---------+------+\n",
      "|  2|       @mjbrender|     3101|     M|\n",
      "|  4|@dez_blanchfield |    38600|     M|\n",
      "|  7|       @WibiData |     2477|     N|\n",
      "+---+-----------------+---------+------+\n",
      "\n"
     ]
    }
   ],
   "source": [
    "graph.vertices.filter(\"followers > 1000\").show() "
   ]
  },
  {
   "cell_type": "markdown",
   "metadata": {},
   "source": [
    "#### Find those followers who do enough re-tweeets for me"
   ]
  },
  {
   "cell_type": "code",
   "execution_count": 15,
   "metadata": {
    "attributes": {
     "classes": [
      "scala"
     ],
     "id": ""
    },
    "collapsed": true
   },
   "outputs": [
    {
     "name": "stdout",
     "output_type": "stream",
     "text": [
      "+---+---+--------+\n",
      "|src|dst|retweets|\n",
      "+---+---+--------+\n",
      "|  1|  2|       7|\n",
      "+---+---+--------+\n",
      "\n"
     ]
    },
    {
     "data": {
      "text/plain": [
       "1"
      ]
     },
     "execution_count": 15,
     "metadata": {},
     "output_type": "execute_result"
    }
   ],
   "source": [
    "graph.edges.filter(\"retweets > 5\").show()\n",
    "\n",
    "graph.edges.filter(\"retweets > 5\").count()"
   ]
  },
  {
   "cell_type": "markdown",
   "metadata": {},
   "source": [
    "#### Count my male and female followers"
   ]
  },
  {
   "cell_type": "code",
   "execution_count": 16,
   "metadata": {
    "attributes": {
     "classes": [
      "scala"
     ],
     "id": ""
    },
    "collapsed": true
   },
   "outputs": [
    {
     "name": "stdout",
     "output_type": "stream",
     "text": [
      "Males 3, Females 3\n"
     ]
    }
   ],
   "source": [
    "num_male = graph.vertices.filter(\"gender == 'M'\").count()\n",
    "num_female = graph.vertices.filter(\"gender == 'F'\").count()\n",
    "print ('Males %d, Females %d' % (num_male, num_female))"
   ]
  },
  {
   "cell_type": "code",
   "execution_count": null,
   "metadata": {},
   "outputs": [],
   "source": []
  }
 ],
 "metadata": {
  "kernelspec": {
   "display_name": "Python 3",
   "language": "python",
   "name": "python3"
  },
  "language_info": {
   "codemirror_mode": {
    "name": "ipython",
    "version": 3
   },
   "file_extension": ".py",
   "mimetype": "text/x-python",
   "name": "python",
   "nbconvert_exporter": "python",
   "pygments_lexer": "ipython3",
   "version": "3.6.8"
  }
 },
 "nbformat": 4,
 "nbformat_minor": 2
}
